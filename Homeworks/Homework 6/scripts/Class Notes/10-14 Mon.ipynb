{
 "metadata": {
  "name": ""
 },
 "nbformat": 3,
 "nbformat_minor": 0,
 "worksheets": [
  {
   "cells": [
    {
     "cell_type": "markdown",
     "metadata": {},
     "source": [
      "Comments should explain what is happening and how but concisely\n",
      "\n",
      "##Debugging\n",
      "\n",
      "Some bugs (syntacic errors) are caught by Python. Some bugs are \"semantic errors\" because they output the incorrect thing. Always look before to see if the error is really in the line you thought. Usually it's immediately obvious where syntactic error is. Semantic errors that cause you to get something you don't expect require you to carefully go through the code. \n",
      "\n",
      "PyCharm -- Pythontutor -- Most programmers use IDE because they can debug\n",
      "\n",
      "\n",
      "# Classes\n",
      "\n",
      "- can contain things.date (nouns):attributes\n",
      "\n",
      "- can contain actions/functions (verbs): methods\n",
      "\n",
      "- have a namespace(dict): \n",
      "- namespace: a local denotation function from names to elements in memory\n",
      "\n",
      "Import statements such as import datetime means add the datetime module to my current namespace. \n",
      "\n",
      "You must tell the program where it is looking. (for example, datetime.MAXYEAR)\n",
      "\n",
      "MAXYEAR = datetime.MAXYEAR\n",
      "\n",
      "from dateline import MAXYEAR as fff\n",
      "\n",
      "from dateline import *\n",
      "\n",
      "locals() now will print all of datetime. \n",
      "\n",
      "import statements top line\n",
      "    "
     ]
    },
    {
     "cell_type": "code",
     "collapsed": false,
     "input": [
      "class NewClass(object):\n",
      "    \"\"\"Hello\"\"\"\n",
      "    myInty = 5\n",
      "myC = NewClass()\n"
     ],
     "language": "python",
     "metadata": {},
     "outputs": [],
     "prompt_number": 8
    },
    {
     "cell_type": "code",
     "collapsed": false,
     "input": [
      "myC.x = 1\n",
      "print myC.x\n",
      "print myC."
     ],
     "language": "python",
     "metadata": {},
     "outputs": [
      {
       "output_type": "stream",
       "stream": "stdout",
       "text": [
        "1\n"
       ]
      }
     ],
     "prompt_number": 5
    },
    {
     "cell_type": "code",
     "collapsed": false,
     "input": [
      "print myC.myInty\n",
      "myC.listy = [1,2,3, myC.myInty]\n",
      "print myC.listy"
     ],
     "language": "python",
     "metadata": {},
     "outputs": [
      {
       "output_type": "stream",
       "stream": "stdout",
       "text": [
        "5\n",
        "[1, 2, 3, 5]\n"
       ]
      }
     ],
     "prompt_number": 9
    },
    {
     "cell_type": "code",
     "collapsed": false,
     "input": [
      "class NewClass2(object):\n",
      "    def functiony(self, x):\n",
      "        print x"
     ],
     "language": "python",
     "metadata": {},
     "outputs": [],
     "prompt_number": 10
    },
    {
     "cell_type": "code",
     "collapsed": false,
     "input": [
      "myC2=NewClass2()\n",
      "myC2.functiony(\"Hello darling\")\n",
      "st = \"Hello darling\"\n",
      "st.split(\" \")"
     ],
     "language": "python",
     "metadata": {},
     "outputs": [
      {
       "output_type": "stream",
       "stream": "stdout",
       "text": [
        "Hello darling\n"
       ]
      },
      {
       "metadata": {},
       "output_type": "pyout",
       "prompt_number": 11,
       "text": [
        "['Hello', 'darling']"
       ]
      }
     ],
     "prompt_number": 11
    },
    {
     "cell_type": "markdown",
     "metadata": {},
     "source": [
      "- Semantics of split is equivalent of semantics of NewClass2\n",
      "\n",
      "Classes have parents\n",
      "\n",
      "- specified in parentheses\n"
     ]
    },
    {
     "cell_type": "code",
     "collapsed": false,
     "input": [],
     "language": "python",
     "metadata": {},
     "outputs": []
    }
   ],
   "metadata": {}
  }
 ]
}