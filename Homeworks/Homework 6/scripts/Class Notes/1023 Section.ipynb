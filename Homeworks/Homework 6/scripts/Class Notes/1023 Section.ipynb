{
 "metadata": {
  "name": ""
 },
 "nbformat": 3,
 "nbformat_minor": 0,
 "worksheets": [
  {
   "cells": [
    {
     "cell_type": "markdown",
     "metadata": {},
     "source": [
      "[][][][][]\n",
      "\n",
      "if x in vowels:\n",
      "\n",
      "&nbsp;&nbsp;&nbsp; return x\n",
      "\n",
      "else:\n",
      "\n",
      "&nbsp;&nbsp;&nbsp; move x back by 1\n",
      "\n",
      "do again\n",
      "\n",
      "for x in reverse of(word)\n",
      "  if x in vowels\n",
      "  \n",
      "  \n",
      " **Can I use groupdict for homework? \n",
      " "
     ]
    },
    {
     "cell_type": "code",
     "collapsed": false,
     "input": [],
     "language": "python",
     "metadata": {},
     "outputs": []
    }
   ],
   "metadata": {}
  }
 ]
}