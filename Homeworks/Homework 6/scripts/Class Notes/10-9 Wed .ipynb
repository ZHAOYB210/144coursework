{
 "metadata": {
  "name": ""
 },
 "nbformat": 3,
 "nbformat_minor": 0,
 "worksheets": [
  {
   "cells": [
    {
     "cell_type": "code",
     "collapsed": false,
     "input": [
      "def pow(base,exp):\n",
      "    \"\"\"This function computes base^exp\n",
      "        pow(2,4) = 16\n",
      "        pow(3,2) = 9\n",
      "    \"\"\"\n",
      "    \n",
      "    ans = 1\n",
      "    for i in range(0,exp):\n",
      "       ans = ans*base\n",
      "    return ans\n",
      "pow(3,2)"
     ],
     "language": "python",
     "metadata": {},
     "outputs": [
      {
       "metadata": {},
       "output_type": "pyout",
       "prompt_number": 7,
       "text": [
        "9"
       ]
      }
     ],
     "prompt_number": 7
    },
    {
     "cell_type": "code",
     "collapsed": false,
     "input": [
      "range(2)"
     ],
     "language": "python",
     "metadata": {},
     "outputs": [
      {
       "metadata": {},
       "output_type": "pyout",
       "prompt_number": 2,
       "text": [
        "[0, 1]"
       ]
      }
     ],
     "prompt_number": 2
    },
    {
     "cell_type": "code",
     "collapsed": false,
     "input": [
      "range(0,2)"
     ],
     "language": "python",
     "metadata": {},
     "outputs": [
      {
       "metadata": {},
       "output_type": "pyout",
       "prompt_number": 3,
       "text": [
        "[0, 1]"
       ]
      }
     ],
     "prompt_number": 3
    },
    {
     "cell_type": "code",
     "collapsed": false,
     "input": [
      "asdfasdfasfd=5"
     ],
     "language": "python",
     "metadata": {},
     "outputs": [],
     "prompt_number": 8
    },
    {
     "cell_type": "code",
     "collapsed": false,
     "input": [
      "asdfasdfasfd #remember tab remembers3"
     ],
     "language": "python",
     "metadata": {},
     "outputs": [
      {
       "metadata": {},
       "output_type": "pyout",
       "prompt_number": 10,
       "text": [
        "5"
       ]
      }
     ],
     "prompt_number": 10
    },
    {
     "cell_type": "markdown",
     "metadata": {},
     "source": [
      "variables live and die in the function or module where they are first assigned\n",
      "variables are born when they are first assigned"
     ]
    },
    {
     "cell_type": "markdown",
     "metadata": {},
     "source": [
      "How are functions implemented?\n",
      "A bit of code that is parceled into a separate memory location and which returns a value\n",
      "Subroutine: just a little bit of code on the side\n",
      "Function: obligatority returns a vlue - always return something in Python\n",
      "Either there is an explicit return statement or you 'fall off the edge' of the code and return NONE"
     ]
    },
    {
     "cell_type": "code",
     "collapsed": false,
     "input": [
      "def returning(t):\n",
      "    x=t+3\n",
      "    return x\n",
      "\n",
      "def notReturning(t):\n",
      "    x=t+3\n",
      "\n",
      "import dis\n",
      "\n",
      "dis.dis(returning)\n",
      "print\n"
     ],
     "language": "python",
     "metadata": {},
     "outputs": [
      {
       "output_type": "stream",
       "stream": "stdout",
       "text": [
        "  2           0 LOAD_FAST                0 (t)\n",
        "              3 LOAD_CONST               1 (3)\n",
        "              6 BINARY_ADD          \n",
        "              7 STORE_FAST               1 (x)\n",
        "\n",
        "  3          10 LOAD_FAST                1 (x)\n",
        "             13 RETURN_VALUE        \n",
        "\n"
       ]
      }
     ],
     "prompt_number": 14
    },
    {
     "cell_type": "code",
     "collapsed": false,
     "input": [
      "print dis.dis(notReturning)"
     ],
     "language": "python",
     "metadata": {},
     "outputs": [
      {
       "output_type": "stream",
       "stream": "stdout",
       "text": [
        "  6           0 LOAD_FAST                0 (t)\n",
        "              3 LOAD_CONST               1 (3)\n",
        "              6 BINARY_ADD          \n",
        "              7 STORE_FAST               1 (x)\n",
        "             10 LOAD_CONST               0 (None)\n",
        "             13 RETURN_VALUE        \n",
        "None\n"
       ]
      }
     ],
     "prompt_number": 15
    },
    {
     "cell_type": "code",
     "collapsed": false,
     "input": [
      "def fn2(a,b):\n",
      "    q = x+3\n",
      "    \n",
      "def fn1(i,j):\n",
      "    x=10\n",
      "    fn2(2,5)\n",
      "    \n",
      "x=3\n",
      "fn1(6,7)"
     ],
     "language": "python",
     "metadata": {},
     "outputs": [],
     "prompt_number": 18
    },
    {
     "cell_type": "code",
     "collapsed": false,
     "input": [
      "print fn1(6,7)"
     ],
     "language": "python",
     "metadata": {},
     "outputs": [
      {
       "output_type": "stream",
       "stream": "stdout",
       "text": [
        "None\n"
       ]
      }
     ],
     "prompt_number": 17
    },
    {
     "cell_type": "code",
     "collapsed": false,
     "input": [
      "#names fn2 and fn1 are part of global frame"
     ],
     "language": "python",
     "metadata": {},
     "outputs": [],
     "prompt_number": 19
    },
    {
     "cell_type": "code",
     "collapsed": false,
     "input": [
      "x += 10\n",
      "#is the same as x = x + 10"
     ],
     "language": "python",
     "metadata": {},
     "outputs": [],
     "prompt_number": 20
    },
    {
     "cell_type": "code",
     "collapsed": false,
     "input": [
      "def fn1(i,j):\n",
      "    x=34\n",
      "    x+=10\n",
      "    \n",
      "    def fn2(a,b):\n",
      "        global x\n",
      "        q=x+3\n",
      "    fn2(2,5)\n",
      "    \n",
      "x=3\n",
      "fn1(6,7)"
     ],
     "language": "python",
     "metadata": {},
     "outputs": [],
     "prompt_number": 21
    },
    {
     "cell_type": "code",
     "collapsed": false,
     "input": [
      "print fn1(6,7)"
     ],
     "language": "python",
     "metadata": {},
     "outputs": [
      {
       "output_type": "stream",
       "stream": "stdout",
       "text": [
        "None\n"
       ]
      }
     ],
     "prompt_number": 22
    },
    {
     "cell_type": "code",
     "collapsed": false,
     "input": [
      "#A function inside another function can look at parent function's variables -\n",
      "#must be inside definition of parent function\n",
      "\n",
      "#Scope: if I'm a function and I reference a variable, python will find the name for\n",
      "#the variable by:\n",
      "#looking in my local environment\n",
      "#looking in the local envmt of my parent\n",
      "# ' ' my paren'ts parent\n",
      "#looking, finally, in global. \n",
      "\n",
      "#For things like lists/dictionaries, there is a difference between assignment, and\n",
      "#changing the value within list/dict. \n",
      "#Things like strings/tuples/numbers are unmutable - when you change value of\n",
      "#these things, change what it points to.\n",
      "#With lists, changing internal contents/values, not what it points to.\n",
      "#Trying to change the value of something, it won't happen for lists/dicts effectively.\n",
      "\n",
      "#If you're interested in updating a bunch of values at once, you might define\n",
      "#a list/dict and update them internally.\n",
      "\n",
      "#When declaring a new value, scope will always look locally. When changing internal\n",
      "#value, this can be done without problems. Internals of dicts/lists can change\n",
      "#without changing external characteristic/value.\n",
      "#Strings can't be changed inside. "
     ],
     "language": "python",
     "metadata": {},
     "outputs": []
    }
   ],
   "metadata": {}
  }
 ]
}