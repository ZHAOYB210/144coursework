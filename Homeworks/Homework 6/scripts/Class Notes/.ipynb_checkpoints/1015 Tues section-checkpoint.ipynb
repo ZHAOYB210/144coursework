{
 "metadata": {
  "name": ""
 },
 "nbformat": 3,
 "nbformat_minor": 0,
 "worksheets": [
  {
   "cells": [
    {
     "cell_type": "code",
     "collapsed": false,
     "input": [
      "class MyClass(object):\n",
      "    foo = 5\n",
      "    def hello(self): #self is important so it knows the arg\n",
      "        return \"Hello world!\"\n",
      "    def funct (self, x): # functs are methods\n",
      "        return x*5\n",
      "\n",
      "felix = MyClass()\n",
      "felix.foo\n",
      "felix.hello()\n",
      "felix.funct(4)"
     ],
     "language": "python",
     "metadata": {},
     "outputs": [
      {
       "metadata": {},
       "output_type": "pyout",
       "prompt_number": 3,
       "text": [
        "20"
       ]
      }
     ],
     "prompt_number": 3
    },
    {
     "cell_type": "code",
     "collapsed": false,
     "input": [
      "import random #random.random()\n",
      "\n",
      "class Coin(object):\n",
      "    def __init__(self, nickname, weight):\n",
      "        self.nickname = str(nickname)\n",
      "        self.weight = float(weight)\n",
      "    def __str__(self):\n",
      "        return self.nickname + \": \" + str(self.weight)\n",
      "\n",
      "    def flip(self):\n",
      "        randomPoint = random.random() #sets ranomPoint to a number between 0-1\n",
      "        #randomPoint - 0.29083904\n",
      "        if randomPoint < self.weight: #compares the random point with weight\n",
      "            return 'H'\n",
      "        else:\n",
      "            return 'T'\n",
      "        \n",
      "lucky = Coin(\"Lucky\", .72)    \n",
      "print lucky.weight   \n",
      "print lucky.nickname\n",
      "print lucky\n",
      "print lucky.flip()"
     ],
     "language": "python",
     "metadata": {},
     "outputs": [
      {
       "output_type": "stream",
       "stream": "stdout",
       "text": [
        "0.72\n",
        "Lucky\n",
        "Lucky: 0.72\n",
        "H\n"
       ]
      }
     ],
     "prompt_number": 17
    },
    {
     "cell_type": "code",
     "collapsed": false,
     "input": [
      "lucky = Coin(\"Lucky\", .72)\n",
      "fairlady = Coin(\"The Fair Lady\", .5)\n",
      "bob = Coin(\"Bob\", .2)\n",
      "\n",
      "coinList = [lucky, fairlady, bob]\n",
      "\n",
      "for coin in coinList:\n",
      "    print coin"
     ],
     "language": "python",
     "metadata": {},
     "outputs": [
      {
       "output_type": "stream",
       "stream": "stdout",
       "text": [
        "Lucky: 0.72\n",
        "The Fair Lady: 0.5\n",
        "Bob: 0.2\n"
       ]
      }
     ],
     "prompt_number": 20
    },
    {
     "cell_type": "code",
     "collapsed": false,
     "input": [
      "for coin in coinList:\n",
      "    "
     ],
     "language": "python",
     "metadata": {},
     "outputs": [
      {
       "ename": "IndentationError",
       "evalue": "expected an indented block (<ipython-input-21-e6df258fc09d>, line 2)",
       "output_type": "pyerr",
       "traceback": [
        "\u001b[0;36m  File \u001b[0;32m\"<ipython-input-21-e6df258fc09d>\"\u001b[0;36m, line \u001b[0;32m2\u001b[0m\n\u001b[0;31m    \u001b[0m\n\u001b[0m    ^\u001b[0m\n\u001b[0;31mIndentationError\u001b[0m\u001b[0;31m:\u001b[0m expected an indented block\n"
       ]
      }
     ],
     "prompt_number": 21
    },
    {
     "cell_type": "code",
     "collapsed": false,
     "input": [
      "class Noun(object):\n",
      "    def __init__(self, sing, pl=None, mass=False):\n",
      "        self.sing = str(sing)\n",
      "        self.mass = mass\n",
      "        if pl != None:\n",
      "            self.pl = str(pl)\n",
      "        else:\n",
      "            self.pl = self.sing + \"s\" \n",
      "            \n",
      "    def __str__(self):\n",
      "        return \"Singular: \" + self.sing + \" \" + \"Plural: \" + self.pl + \" \" \"Mass: \" + str(self.mass)\n",
      "    \n",
      "    def isCount(self):\n",
      "        if self.mass is True:\n",
      "            return str.capitalize(self.sing) + \" is a mass noun\"\n",
      "        else:\n",
      "            return str.capitalize(self.sing) + \" is a count noun\" \n",
      "            \n",
      "    def thereAre(self, number): \n",
      "        if self.mass is True:\n",
      "            return str.capitalize(self.sing) + \" is a mass noun.\"\n",
      "        elif number != 1:\n",
      "            return \"There are \" + str(number) +\" \" + self.pl\n",
      "        else:\n",
      "            return \"There is \" + str(number) + \" \" + self.sing\n",
      "\n",
      "def testCases():\n",
      "    apple = Noun(\"apple\")\n",
      "    print apple\n",
      "    print apple.isCount()\n",
      "    print apple.thereAre(4)\n",
      "    print apple.thereAre(1)\n",
      "    print apple.thereAre(0)\n",
      "    \n",
      "    print\n",
      "    \n",
      "    goose = Noun(\"goose\", \"geese\")\n",
      "    print goose\n",
      "    print goose.isCount()\n",
      "    print goose.thereAre(4)\n",
      "    print goose.thereAre(1)\n",
      "    print goose.thereAre(0)\n",
      "    \n",
      "    print\n",
      "    \n",
      "    gohan = Noun(\"rice\", mass=True)\n",
      "    print gohan\n",
      "    print gohan.isCount()\n",
      "    print gohan.thereAre(4)\n",
      "    print gohan.thereAre(1)\n",
      "    print gohan.thereAre(0)\n",
      "    \n",
      "    print\n",
      "\n",
      "if __name__== \"__main__\":\n",
      "    testCases()"
     ],
     "language": "python",
     "metadata": {},
     "outputs": [
      {
       "output_type": "stream",
       "stream": "stdout",
       "text": [
        "Singular: apple Plural: apples Mass: False\n",
        "Apple is a count noun\n",
        "There are 4 apples\n",
        "There is 1 apple\n",
        "There are 0 apples\n",
        "\n",
        "Singular: goose Plural: geese Mass: False\n",
        "Goose is a count noun\n",
        "There are 4 geese\n",
        "There is 1 goose\n",
        "There are 0 geese\n",
        "\n",
        "Singular: rice Plural: rices Mass: True\n",
        "Rice is a mass noun\n",
        "Rice is a mass noun.\n",
        "Rice is a mass noun.\n",
        "Rice is a mass noun.\n",
        "\n"
       ]
      }
     ],
     "prompt_number": 39
    },
    {
     "cell_type": "code",
     "collapsed": false,
     "input": [],
     "language": "python",
     "metadata": {},
     "outputs": []
    }
   ],
   "metadata": {}
  }
 ]
}