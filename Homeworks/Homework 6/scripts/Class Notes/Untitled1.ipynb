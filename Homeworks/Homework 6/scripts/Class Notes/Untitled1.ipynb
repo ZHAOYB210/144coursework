{
 "metadata": {
  "name": ""
 },
 "nbformat": 3,
 "nbformat_minor": 0,
 "worksheets": [
  {
   "cells": [
    {
     "cell_type": "markdown",
     "metadata": {},
     "source": [
      "<br>N: nonterminals\n",
      "<br>T: terminals\n",
      "<br>P: production rules\n",
      "<br>start/stop symbols\n",
      "\n",
      "regular languages \n",
      "<br> X -> (a)Y\n",
      "\n",
      "b+ X-> bX \n",
      "\n",
      "b* X -> bY"
     ]
    },
    {
     "cell_type": "code",
     "collapsed": false,
     "input": [],
     "language": "python",
     "metadata": {},
     "outputs": []
    }
   ],
   "metadata": {}
  }
 ]
}