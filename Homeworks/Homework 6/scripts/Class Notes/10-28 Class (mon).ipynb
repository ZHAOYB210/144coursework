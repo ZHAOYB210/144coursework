{
 "metadata": {
  "name": ""
 },
 "nbformat": 3,
 "nbformat_minor": 0,
 "worksheets": [
  {
   "cells": [
    {
     "cell_type": "markdown",
     "metadata": {},
     "source": [
      "| is or in regex\n",
      "\n",
      "(the|think) would get the the and think think form \n",
      "\n",
      "\"If I ever think that the the answer s what \n",
      "you think think it is, then\n",
      "then I will be forced to say not, not\n",
      "because it can't be done, but because it shouldn't\"\n",
      "\n",
      "^ and $ are boundary markers\n",
      "\n",
      "\\b(\\w+)\\s+\\1\n",
      "\n",
      "\"This is in quotes\"\n",
      "\"This\" is not in \"quotes\"\n",
      "This is not in quotes\n",
      "\"a\"\n",
      "\n",
      "<lb>\".\" one character in quotes \n",
      "<lb>\".+\" multiple characters in quotes (will get whole line 2 above)\n",
      "<lb>\"[^\"]+\" to get only things in quotes\n",
      "<lb><b>or</b>\n",
      "<lb>\".+?\" for same\n",
      "\n",
      "\n",
      "\n",
      "<p>\"< b >.+?< /b >\"\n",
      "(without spaces)\n",
      "better for \n",
      "\n",
      "<b> This is in bold </b>\n",
      "\n",
      "<b>This is in bold</b>\n",
      "\n",
      "<b>This is</b> <b>in</b> bold</b>\n",
      "\n"
     ]
    },
    {
     "cell_type": "code",
     "collapsed": false,
     "input": [],
     "language": "python",
     "metadata": {},
     "outputs": []
    }
   ],
   "metadata": {}
  }
 ]
}