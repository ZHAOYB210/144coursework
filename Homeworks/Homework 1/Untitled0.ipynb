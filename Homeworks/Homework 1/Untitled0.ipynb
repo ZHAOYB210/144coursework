{
 "metadata": {
  "name": ""
 },
 "nbformat": 3,
 "nbformat_minor": 0,
 "worksheets": [
  {
   "cells": [
    {
     "cell_type": "code",
     "collapsed": false,
     "input": [
      "def first_vowel(str):\n",
      "    for i, c in enumerate(str):\n",
      "        if c in \"aeiou\":\n",
      "            return i\n",
      "    else:\n",
      "            return -1\n",
      "test_string = \"string\"\n",
      "test_cluster = test_string[:first_vowel(test_string)]"
     ],
     "language": "python",
     "metadata": {},
     "outputs": [],
     "prompt_number": 8
    },
    {
     "cell_type": "code",
     "collapsed": false,
     "input": [],
     "language": "python",
     "metadata": {},
     "outputs": []
    }
   ],
   "metadata": {}
  }
 ]
}