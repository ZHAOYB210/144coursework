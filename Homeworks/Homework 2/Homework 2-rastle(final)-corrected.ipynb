{
 "metadata": {
  "name": ""
 },
 "nbformat": 3,
 "nbformat_minor": 0,
 "worksheets": [
  {
   "cells": [
    {
     "cell_type": "code",
     "collapsed": false,
     "input": [
      "#/usr/bin/env python\n",
      "# -*- coding: utf-8 -*- \n",
      "\n",
      "# The coding line above will let you use unicode symbols in your program text, as Brianna suggested.\n",
      "# Note that ipython automagically does that for you, but if you aren't using\n",
      "# it, you'll need this line."
     ],
     "language": "python",
     "metadata": {},
     "outputs": [],
     "prompt_number": 6
    },
    {
     "cell_type": "code",
     "collapsed": false,
     "input": [
      "# Contributors [Sarah Neace, Rebekah Astle]\n",
      "# email addresses [sneace@ucsc.edu, rastle@ucsc.edu]\n",
      "# Credits [Oliver Northup, Pranav Anand]"
     ],
     "language": "python",
     "metadata": {},
     "outputs": [],
     "prompt_number": 7
    },
    {
     "cell_type": "markdown",
     "metadata": {},
     "source": [
      "<hr/>\n",
      "<center><h1>Functions and Scope</h1></center>\n",
      "<hr/>"
     ]
    },
    {
     "cell_type": "markdown",
     "metadata": {},
     "source": [
      "For the problems in this section, it is important to understand how names work in Python. As I suggested in class, there is a precise semantics for names in context that mirrors what you learn in Sem1: a name is a bit of syntax that **denotes** a referent, which is a particular block of memory.\n",
      "\n",
      "The denotation function is governed by the scope conventions from Wednesday. To understand that in more detail, please read the following two documents:\n",
      "\n",
      "* the Python official [execution model documentation](http://docs.python.org/dev/reference/executionmodel.html)\n",
      "\n",
      "* this [blog post on names](http://tech.blog.aknin.name/2010/06/05/pythons-innards-naming/), especially the first half (when it gets to assembly, you can stop, though it is probably very useful to read through that at least once); ignore the stuff about exceptions at the end\n",
      "\n",
      "I don't think you'll get everything on your first time, and please feel free to ignore any discussion of generators. Classes we will talk about on Monday; they are just object you make up yourself. Modules we'll talk about on Wednesday; they are simply python files. In particular, this ENTIRE notebook is one module. That is key to one of the parts of Problem 1."
     ]
    },
    {
     "cell_type": "markdown",
     "metadata": {},
     "source": [
      "##Problem 1\n",
      "\n",
      "A) In the script below, the first deletion yields an error and the second does not. Why? Please explain, making reference to the scope of the variables and mutability."
     ]
    },
    {
     "cell_type": "code",
     "collapsed": false,
     "input": [
      "#try to delete a variable in wrong scope\n",
      "\n",
      "def fn():\n",
      "    print x\n",
      "    #del x      #why is this bad when del is uncommented?\n",
      "    #del y[\"a\"] #why is this ok?\n",
      "    print y\n",
      "if __name__ == \"__main__\":\n",
      "    x = 10\n",
      "    y = {}\n",
      "    y[\"a\"] = \"b\"\n",
      "    fn()"
     ],
     "language": "python",
     "metadata": {},
     "outputs": [
      {
       "output_type": "stream",
       "stream": "stdout",
       "text": [
        "10\n",
        "{'a': 'b'}\n"
       ]
      }
     ],
     "prompt_number": 3
    },
    {
     "cell_type": "markdown",
     "metadata": {},
     "source": [
      "Trying to mute a global variable in a local context... y[\"a\"] only removes one definition for the variable, not the variable itself, so y is not removed from the namespace. _Also, a target occurring in a del statement is considered bound according to the Python official execution model documentation._ However, 'print' does not bind the variable, so that the line 'print x' references x before it is bound by 'del x.'In the line 'del y[\"a\"],' the del statement binds y.\n",
      "\n",
      "> Say more about the italicized line. How does the fact that `del` binds a variable (although its semantics really *un*bind it) explain this behavior?"
     ]
    },
    {
     "cell_type": "markdown",
     "metadata": {},
     "source": [
      "B) Consider the scripts below. Three variables are referenced, `x`, `y`, and `z`. Why do the references for `x` and `y` go through, but not the one for `z`. "
     ]
    },
    {
     "cell_type": "code",
     "collapsed": false,
     "input": [
      "#stuff in __main__ module and globals\n",
      "\n",
      "if __name__ == '__main__':\n",
      "    print x        # why does this yield a value?\n",
      "    y[\"c\"] = 12\n",
      "    # z[\"a\"] = \"b\" #why does z trigger a name error and y does not?\n",
      "    \n"
     ],
     "language": "python",
     "metadata": {},
     "outputs": [
      {
       "output_type": "stream",
       "stream": "stdout",
       "text": [
        "10\n"
       ]
      }
     ],
     "prompt_number": 195
    },
    {
     "cell_type": "markdown",
     "metadata": {},
     "source": [
      "z has not been previously defined whereas x and y were defined earlier in the __main__ (several lines up)  and this program is look looking at the global variables contained in __main__. z is not a bound variable here. \n",
      "\n",
      ">\u2713\n"
     ]
    },
    {
     "cell_type": "markdown",
     "metadata": {},
     "source": [
      "C) Given your answer above, why is it a good idea in a Python Notebook to do something like the `del` operations below occasionally? "
     ]
    },
    {
     "cell_type": "code",
     "collapsed": false,
     "input": [
      "if __name__ == '__main__':\n",
      "    del x\n",
      "    del y\n",
      "    del fn"
     ],
     "language": "python",
     "metadata": {},
     "outputs": [],
     "prompt_number": 196
    },
    {
     "cell_type": "markdown",
     "metadata": {},
     "source": [
      "Del of a name removes that name from the namespace. After deletion occurs, the \n",
      "name can no longer be referenced. If you are working on a large program, it is sometimes a good idea to delete variables and functions you are no longer using so as to prevent errors occuring if you try to use or reference the same variables later on.\n",
      "\n",
      ">\u2713\n"
     ]
    },
    {
     "cell_type": "markdown",
     "metadata": {},
     "source": [
      "##Problem 2\n",
      "\n",
      "Consider the code below. Please explain why `l1` and `l2` end up the same, but `l4` is different and why, differently, `s1` and `s2` do not remain the same. Your answer should consider mutability, but really be about names and their referents in memory. If you are confused about this and other problems in the section, look at the code in [Python tutor](http://pythontutor.com)."
     ]
    },
    {
     "cell_type": "code",
     "collapsed": false,
     "input": [
      "if __name__ == '__main__':\n",
      "    s1 = s2 = s3 = \"testString\"\n",
      "    l1 = l2 = l3 = list(\"testList\")\n",
      "    l4 = l1[:]\n",
      "    \n",
      "    l1[0] = 'T'\n",
      "    s1 = s1.capitalize()\n",
      "    print l1, l2, l4\n",
      "    print s1, s2\n",
      "    \n",
      "    del s1,s2,s3,l1,l2,l3,l4"
     ],
     "language": "python",
     "metadata": {},
     "outputs": [
      {
       "output_type": "stream",
       "stream": "stdout",
       "text": [
        "['T', 'e', 's', 't', 'L', 'i', 's', 't'] ['T', 'e', 's', 't', 'L', 'i', 's', 't'] ['t', 'e', 's', 't', 'L', 'i', 's', 't']\n",
        "Teststring testString\n"
       ]
      }
     ],
     "prompt_number": 197
    },
    {
     "cell_type": "markdown",
     "metadata": {},
     "source": [
      "11 and 12 end up the same because it is stated that they are equal to each other\n",
      "and when 11[0] is defined as 'T,' then 12[0] and 13[0] are also defined as 'T.'\n",
      "14, however, is a new variable which is not identical to 11, 12, and 13.\n",
      "\n",
      ">\"Equal\" and \"identical\" could be explained more fully, because it's not clear whether the discussion here is about variable names or their referents. By \"equal\" here, you mean that l1, l2, and l3 all reference the same object in memory. l4 is \"not idential\" because it points to a different object in memory, which is initialized as an identical copy of the object l1 references.\n",
      "\n",
      "s1 and s2 do not remain the same because s1 has now been rebound to a new value and is no longer the same as s2 and s3.\n",
      "\n",
      "> \u2713"
     ]
    },
    {
     "cell_type": "markdown",
     "metadata": {},
     "source": [
      "##Problem 3\n",
      "\n",
      "I told you that functions are bits of code in memory; you even saw that in [Python tutor](http://pythontutor.com). We also saw that functions are named by using the `def` keyword. But we already know that functions are bits of memory, like everything else. And so, you can bind several names to function just by assignment."
     ]
    },
    {
     "cell_type": "code",
     "collapsed": false,
     "input": [
      "def fn(i):\n",
      "    print i*i\n",
      "\n",
      "if __name__ == '__main__':\n",
      "    fn(2)\n",
      "    newF = fn\n",
      "    newF(3)\n",
      "    del fn, newF"
     ],
     "language": "python",
     "metadata": {},
     "outputs": [
      {
       "output_type": "stream",
       "stream": "stdout",
       "text": [
        "4\n",
        "9\n"
       ]
      }
     ],
     "prompt_number": 198
    },
    {
     "cell_type": "markdown",
     "metadata": {},
     "source": [
      "And just like any other variable, you can return a function name, which shares the referent:"
     ]
    },
    {
     "cell_type": "code",
     "collapsed": false,
     "input": [
      "def fn():\n",
      "    def square(i):\n",
      "        return i*i\n",
      "    return square\n",
      "\n",
      "if __name__ == \"__main__\":\n",
      "    fvar = fn()\n",
      "    print fvar(30)\n",
      "    del fn,fvar"
     ],
     "language": "python",
     "metadata": {},
     "outputs": [
      {
       "output_type": "stream",
       "stream": "stdout",
       "text": [
        "900\n"
       ]
      }
     ],
     "prompt_number": 6
    },
    {
     "cell_type": "markdown",
     "metadata": {},
     "source": [
      "A) Consider the function below. Please call it to multiply 5 and 10 to get 50."
     ]
    },
    {
     "cell_type": "code",
     "collapsed": false,
     "input": [
      "def outer(x):\n",
      "    def inner(y):\n",
      "        return x*y\n",
      "    return inner\n",
      "\n",
      "print outer(5)(10) #gives x a value of 5 and y a value of 10\n",
      "del outer"
     ],
     "language": "python",
     "metadata": {},
     "outputs": [
      {
       "output_type": "stream",
       "stream": "stdout",
       "text": [
        "50\n"
       ]
      }
     ],
     "prompt_number": 200
    },
    {
     "cell_type": "markdown",
     "metadata": {},
     "source": [
      "B) Now complete the definition of the function called `love` which passes the tests below."
     ]
    },
    {
     "cell_type": "code",
     "collapsed": false,
     "input": [
      "def love(x):\n",
      "    verb = \"love\"\n",
      "    third_ps = [\"he\",\"she\"] #defines the third person singular pronoun\n",
      "    def love_inner(y):\n",
      "        #!!! Working with x makes the most sense in the love() function, since x is its argument.\n",
      "        #!!! What if you sometimes reset verb to verb + \"s\" before going to love_inner()?\n",
      "        if x in third_ps:\n",
      "            return str(x) + \" \" + verb + \"s\" + \" \" + str(y) #converts x and y to strings and combines them with love + s for third person\n",
      "        else:\n",
      "            return str(x) + \" \" + verb + \" \" + str(y) #converts x and y to strings and returns sentence for anything not third person\n",
      "    return love_inner\n",
      "if __name__ == '__main__':\n",
      "    print love(\"I\")(\"Python\") == \"I love Python\"\n",
      "    print love(\"he\")(\"Python\") == \"he loves Python\"\n",
      "    del love"
     ],
     "language": "python",
     "metadata": {},
     "outputs": [
      {
       "output_type": "stream",
       "stream": "stdout",
       "text": [
        "True\n",
        "True\n"
       ]
      }
     ],
     "prompt_number": 201
    },
    {
     "cell_type": "markdown",
     "metadata": {},
     "source": [
      "We've seen that we can bind a name to a function separate from the definition. \n",
      "\n",
      "The final thing to know about functions is that it is possible to define them without naming them too (these are called, appropriately, **anonymous** functions. To do that, you use the `lambda` construct. \n",
      "\n",
      "**Caution:** The lambda construct is a one-liner; you can't make it longer -- [see here for the reason](http://stackoverflow.com/questions/1233448/no-multiline-lambda-in-python-why-not)"
     ]
    },
    {
     "cell_type": "code",
     "collapsed": false,
     "input": [
      "#normal functions\n",
      "def add(x,y):\n",
      "    return x+y\n",
      "\n",
      "def double(x):\n",
      "    return x+x\n",
      "\n",
      "fAdd = lambda x,y: x+y #declaring and assigning anonymous functions\n",
      "fDouble = lambda x: x+x\n",
      "\n",
      "print fAdd == add #not the same function, since they are different in memory \n",
      "print fAdd(3,2) == add(3,2) #but they do the same thing\n",
      "\n",
      "del add,double,fAdd,fDouble"
     ],
     "language": "python",
     "metadata": {},
     "outputs": [
      {
       "output_type": "stream",
       "stream": "stdout",
       "text": [
        "False\n",
        "True\n"
       ]
      }
     ],
     "prompt_number": 202
    },
    {
     "cell_type": "markdown",
     "metadata": {},
     "source": [
      "C) Rewrite the love function to replace `love_inner` with a `lambda` function."
     ]
    },
    {
     "cell_type": "code",
     "collapsed": false,
     "input": [
      "def love(x):\n",
      "    verb = \"love\"\n",
      "    third_ps = [\"he\",\"she\"] #defines the third person singular pronoun\n",
      "    #!!! If you deal with verbal inflection out here, you'll only need one copy of the inner lambda function.\n",
      "    if x not in third_ps: #if x is a 3rd person singular pronoun\n",
      "        return lambda y: x +\" \" + verb +\" \" + y  #condenses function love_inner above into an anonymous function that does the same thing\n",
      "    else:\n",
      "        return lambda z: x +\" \" + verb +\"s\" +\" \" + z \n",
      "    \n",
      "if __name__ == '__main__': #tests code above\n",
      "    print love(\"I\")(\"Python\") == \"I love Python\"\n",
      "    print love(\"he\")(\"Python\") == \"he loves Python\"\n",
      "    del love"
     ],
     "language": "python",
     "metadata": {},
     "outputs": [
      {
       "output_type": "stream",
       "stream": "stdout",
       "text": [
        "True\n",
        "True\n"
       ]
      }
     ],
     "prompt_number": 203
    },
    {
     "cell_type": "markdown",
     "metadata": {},
     "source": [
      "##Problem 4\n",
      "\n",
      "With all of that out of the way, please explain in your own words why `outer()()` and `outer_nonlexical()()` behave so differently. I know there is a detailed explanation for this, but I want to hear it in your own words. It should start with an explanation for why we need two sets of parens here..."
     ]
    },
    {
     "cell_type": "code",
     "collapsed": false,
     "input": [
      "#closure variables\n",
      "def outer():\n",
      "    a = 1\n",
      "    # creating a lexically nested function bar\n",
      "    def inner():\n",
      "        # a is visible from outer's locals\n",
      "        return a\n",
      "    b = 2 # b is here for an example later on\n",
      "    return inner\n",
      " \n",
      "# inner_nonlexical will be called from within\n",
      "#  outer_nonlexical but it is not lexically nested\n",
      "def inner_nonlexical():\n",
      "    return a # a is not visible\n",
      "def outer_nonlexical():\n",
      "    a = 1\n",
      "    inner = inner_nonlexical\n",
      "    b = 2 # b is here for an example later on\n",
      "    return inner_nonlexical\n",
      "\n",
      "outer()()\n",
      "outer_nonlexical()()\n",
      "\n",
      "del outer, outer_nonlexical"
     ],
     "language": "python",
     "metadata": {},
     "outputs": [
      {
       "ename": "NameError",
       "evalue": "global name 'a' is not defined",
       "output_type": "pyerr",
       "traceback": [
        "\u001b[0;31m---------------------------------------------------------------------------\u001b[0m\n\u001b[0;31mNameError\u001b[0m                                 Traceback (most recent call last)",
        "\u001b[0;32m<ipython-input-204-b0d7e1982579>\u001b[0m in \u001b[0;36m<module>\u001b[0;34m()\u001b[0m\n\u001b[1;32m     20\u001b[0m \u001b[0;34m\u001b[0m\u001b[0m\n\u001b[1;32m     21\u001b[0m \u001b[0mouter\u001b[0m\u001b[0;34m(\u001b[0m\u001b[0;34m)\u001b[0m\u001b[0;34m(\u001b[0m\u001b[0;34m)\u001b[0m\u001b[0;34m\u001b[0m\u001b[0m\n\u001b[0;32m---> 22\u001b[0;31m \u001b[0mouter_nonlexical\u001b[0m\u001b[0;34m(\u001b[0m\u001b[0;34m)\u001b[0m\u001b[0;34m(\u001b[0m\u001b[0;34m)\u001b[0m\u001b[0;34m\u001b[0m\u001b[0m\n\u001b[0m\u001b[1;32m     23\u001b[0m \u001b[0;34m\u001b[0m\u001b[0m\n\u001b[1;32m     24\u001b[0m \u001b[0;32mdel\u001b[0m \u001b[0mouter\u001b[0m\u001b[0;34m,\u001b[0m \u001b[0mouter_nonlexical\u001b[0m\u001b[0;34m\u001b[0m\u001b[0m\n",
        "\u001b[0;32m<ipython-input-204-b0d7e1982579>\u001b[0m in \u001b[0;36minner_nonlexical\u001b[0;34m()\u001b[0m\n\u001b[1;32m     12\u001b[0m \u001b[0;31m#  outer_nonlexical but it is not lexically nested\u001b[0m\u001b[0;34m\u001b[0m\u001b[0;34m\u001b[0m\u001b[0m\n\u001b[1;32m     13\u001b[0m \u001b[0;32mdef\u001b[0m \u001b[0minner_nonlexical\u001b[0m\u001b[0;34m(\u001b[0m\u001b[0;34m)\u001b[0m\u001b[0;34m:\u001b[0m\u001b[0;34m\u001b[0m\u001b[0m\n\u001b[0;32m---> 14\u001b[0;31m     \u001b[0;32mreturn\u001b[0m \u001b[0ma\u001b[0m \u001b[0;31m# a is not visible\u001b[0m\u001b[0;34m\u001b[0m\u001b[0m\n\u001b[0m\u001b[1;32m     15\u001b[0m \u001b[0;32mdef\u001b[0m \u001b[0mouter_nonlexical\u001b[0m\u001b[0;34m(\u001b[0m\u001b[0;34m)\u001b[0m\u001b[0;34m:\u001b[0m\u001b[0;34m\u001b[0m\u001b[0m\n\u001b[1;32m     16\u001b[0m     \u001b[0ma\u001b[0m \u001b[0;34m=\u001b[0m \u001b[0;36m1\u001b[0m\u001b[0;34m\u001b[0m\u001b[0m\n",
        "\u001b[0;31mNameError\u001b[0m: global name 'a' is not defined"
       ]
      }
     ],
     "prompt_number": 204
    },
    {
     "cell_type": "markdown",
     "metadata": {},
     "source": [
      "In the function 'outer,' a is defined as being 1. The function 'inner' is nested within 'outer' so that when a is referenced in 'inner,' it is still 1.\n",
      "The scope of the variables defined in the parent function reaches to the nested\n",
      "functions.\n",
      "Since outer_nonlexical is not nested within inner_nonlexical, the variable a\n",
      "does not have scope in inner_nonlexical - it defined as a local variable in\n",
      "outer_nonlexical and it is undefined in inner_nonlexical.\n",
      "\n",
      "> \u2713"
     ]
    },
    {
     "cell_type": "markdown",
     "metadata": {},
     "source": [
      "<hr/>\n",
      "<center><h1>Sorting Complex Lists</h1></center>\n",
      "<hr/>"
     ]
    },
    {
     "cell_type": "markdown",
     "metadata": {},
     "source": [
      "##Problem 5\n",
      "\n",
      "Recall that `sort` and `sorted` can take a *key* optional parameter to do the sorting. We saw one use of that, where you can sort by length or by first 'e'. In this problem, we'll consider the canonical use, sorting complex list elements.\n",
      "\n",
      "In particular, we will consider cases where the list elements are dictionaries representing tokens."
     ]
    },
    {
     "cell_type": "code",
     "collapsed": false,
     "input": [
      "tokens = [{\"word\": \"A\", \"normed\": \"a\", \"pos\": \"DT\"},\n",
      "          {\"word\": \"final\", \"normed\": \"final\", \"pos\": \"JJ\"},\n",
      "          {\"word\": \"problem\", \"normed\": \"problem\", \"pos\": \"NN\"},\n",
      "          {\"word\": \"would\", \"normed\": \"would\", \"pos\": \"MD\"},\n",
      "          {\"word\": \"be\", \"normed\": \"be\", \"pos\": \"VB\"},\n",
      "          {\"word\": \"nice\", \"normed\": \"nice\", \"pos\": \"JJ\"}]\n",
      "\n",
      "tokensRevSorted = [{'normed': 'would', 'word': 'would', 'pos': 'MD'}, \n",
      "                   {'normed': 'problem', 'word': 'problem', 'pos': 'NN'}, \n",
      "                   {'normed': 'be', 'word': 'be', 'pos': 'VB'}, \n",
      "                   {'normed': 'nice', 'word': 'nice', 'pos': 'JJ'}, \n",
      "                   {'normed': 'a', 'word': 'A', 'pos': 'DT'}, \n",
      "                   {'normed': 'final', 'word': 'final', 'pos': 'JJ'}]\n"
     ],
     "language": "python",
     "metadata": {},
     "outputs": [],
     "prompt_number": 2
    },
    {
     "cell_type": "markdown",
     "metadata": {},
     "source": [
      "Define a new key function, either named or anonymous, to sort the token list by final vowel of the normed version and sort the tokens by reverse order wrt that function."
     ]
    },
    {
     "cell_type": "code",
     "collapsed": false,
     "input": [
      "normedList = sorted(tokens, key= lambda tokens: 'normed')\n",
      "\n",
      "\n",
      "def finalVowel(token):\n",
      "    normed = token['normed'] #makes a version of tokens with the 'normed' entries first\n",
      "    #!!! Clever solution! The reversed() method is more readable and gets you the same effect, so stick with that if you need this functionality again.\n",
      "    for char in normed[::-1]: #for char in normed, start at the final char and read leftwards\n",
      "        if char in (\"a\",\"e\",\"i\",\"o\",\"u\"): #stop at the first char that is a vowel\n",
      "            return char\n",
      "    \n",
      "    \n",
      "print sorted(tokens, key = finalVowel, reverse = True) == tokensRevSorted\n",
      "#this sorts the tokens using the function finalVowel so that the dictionaries\n",
      "#are ordered by the final vowel in the 'normed' values.\n"
     ],
     "language": "python",
     "metadata": {},
     "outputs": [
      {
       "output_type": "stream",
       "stream": "stdout",
       "text": [
        "True\n"
       ]
      }
     ],
     "prompt_number": 4
    },
    {
     "cell_type": "markdown",
     "metadata": {},
     "source": [
      "##Problem 6\n",
      "\n",
      "In addition to getting custom keys for sorting, Python 2 also allows a `cmp` parameter, a function that is explicitly called to compare two elements during the sorting. Functions that implement `cmp` have the following character:\n",
      "\n",
      "1. they take two elements, call them `x` and `y`\n",
      "2. they return -1, 0, or 1:  \n",
      "    1. -1: if you want `x` before `y`\n",
      "    2. 0: if you treat `x` and `y` as equal\n",
      "    3. 1: if you want `x` after `y`\n",
      "\n",
      "With this in mind, consider the code below, which sorts a list of strings by the length. This is like what we talked about in class, except now I am using `cmp` instead of `key`."
     ]
    },
    {
     "cell_type": "code",
     "collapsed": false,
     "input": [
      "def cmpByLen(x,y):\n",
      "    \"\"\"this function compares two strings in terms of length\"\"\"\n",
      "    \n",
      "    lx = len(x)\n",
      "    ly = len(y)\n",
      "    \n",
      "    # look up the cmp function, which is basically this\n",
      "    if lx < ly:\n",
      "        return -1\n",
      "    elif lx == ly:\n",
      "        return cmp(x, y)\n",
      "    elif lx > ly:\n",
      "        return 1\n",
      "\n",
      "li = \"these are some words that form a sentence of dubious value and a self-referential egotism I assume\".lower().split(\" \")\n",
      "print sorted(li, cmp=cmpByLen)\n",
      "del li\n",
      "del cmpByLen"
     ],
     "language": "python",
     "metadata": {},
     "outputs": [
      {
       "output_type": "stream",
       "stream": "stdout",
       "text": [
        "['a', 'a', 'i', 'of', 'and', 'are', 'form', 'some', 'that', 'these', 'value', 'words', 'assume', 'dubious', 'egotism', 'sentence', 'self-referential']\n"
       ]
      }
     ],
     "prompt_number": 207
    },
    {
     "cell_type": "markdown",
     "metadata": {},
     "source": [
      "Now, forearmed with this knowledge, sort tokens first by part of speech and then by normed word.\n",
      "\n",
      "I'd like the following order of parts of speech (first to last): DT, JJ, NN, MD, VB"
     ]
    },
    {
     "cell_type": "code",
     "collapsed": false,
     "input": [
      "\n",
      "myKey = {'DT':1, 'JJ':2, 'NN':3, 'MD':4, 'VB':5}\n",
      "def cmpComplicated(tok1, tok2):\n",
      "    \"\"\"This function sorts first by part of speech and then by normed word.\n",
      "    Order of POS: DT, JJ, NN, MD, VB \"\"\"\n",
      "    #!!! Go ahead and name some variables so you don't have to keep writing myKey[tokx['pos']] over and over.\n",
      "    if myKey[tok1['pos']] < myKey[tok2['pos']]: \n",
      "        return -1\n",
      "    #if the value for the 'pos' token1 as defined by myKey is less than the\n",
      "    #value for the 'pos' token2 as defined by myKey, return -1.\n",
      "    \n",
      "    elif myKey[tok1['pos']] > myKey[tok2['pos']]:\n",
      "        return 1\n",
      "    #if the value for the 'pos' token1 as defined by myKey is less than that of \n",
      "    #'pos' token2, return 1.\n",
      "    \n",
      "    else:\n",
      "        if tok1['normed'] < tok2['normed']:\n",
      "           return -1\n",
      "        elif tok1['normed'] > tok2['normed']:\n",
      "            return 1\n",
      "        else:\n",
      "            return 0\n",
      "    #then look at the values for the 'normed' tokens and compare them alphabetically,\n",
      "    #which python knows how to do without specifying alphabetical. return -1 if tok1\n",
      "    #comes before tok2 alphabetically, return 1 if it comes after tok2, and return 0\n",
      "    #if they begin witht he same letter.\n",
      "    \n",
      "\n",
      "\n",
      "complicatedSortTokens = [{'normed': 'a', 'word': 'A', 'pos': 'DT'}, \n",
      "                         {'normed': 'final', 'word': 'final', 'pos': 'JJ'}, \n",
      "                         {'normed': 'nice', 'word': 'nice', 'pos': 'JJ'}, \n",
      "                         {'normed': 'problem', 'word': 'problem', 'pos': 'NN'}, \n",
      "                         {'normed': 'would', 'word': 'would', 'pos': 'MD'}, \n",
      "                         {'normed': 'be', 'word': 'be', 'pos': 'VB'}]\n",
      "    \n",
      "print sorted(tokens, cmp=cmpComplicated) ==  complicatedSortTokens\n",
      "\n"
     ],
     "language": "python",
     "metadata": {},
     "outputs": [
      {
       "output_type": "stream",
       "stream": "stdout",
       "text": [
        "True\n"
       ]
      }
     ],
     "prompt_number": 216
    },
    {
     "cell_type": "markdown",
     "metadata": {},
     "source": [
      "<hr/>\n",
      "<center><h1>Alliteration, Assonace, Consonance</h1></center>\n",
      "<hr/>"
     ]
    },
    {
     "cell_type": "markdown",
     "metadata": {},
     "source": [
      "## Problem 7\n",
      "\n",
      "Finally, alliteration. To do this problem, we will need some help beyond copying from wiktionary, as much fun as that might be. We will use the [CMU Pronouncing Dictionary](http://www.speech.cs.cmu.edu/cgi-bin/cmudict). I have a version I've already made into a `dict`. Let me show you how to load it:"
     ]
    },
    {
     "cell_type": "code",
     "collapsed": false,
     "input": [
      "import json\n",
      "f = open(\"cmdict7a.json\", \"r\")\n",
      "dictionary = json.load(f)\n",
      "f.close()\n",
      "del f"
     ],
     "language": "python",
     "metadata": {},
     "outputs": [],
     "prompt_number": 14
    },
    {
     "cell_type": "markdown",
     "metadata": {},
     "source": [
      "The dictionary has a few quirks. \n",
      "\n",
      "**First**, several words have multiple pronunciations, and I've chosen mark that by making the pronunciations a list, so something like:\n",
      "\n",
      "    dictionary[\"word\"] = [ pronunciation1, pronunciation2, ...]\n",
      "\n",
      "**Second**, the pronunciations themselves aren't in IPA, but an ASCII standard called [ARPABET](http://en.wikipedia.org/wiki/Arpabet) (while you are at that page, check out [SAMPA](http://en.wikipedia.org/wiki/X-SAMPA). If you'd like to convert that to IPA, you can, but I don't think you should need to do that here. Note that many phonemes are consequently several characters, which can make it hard to properly segment a word.\n",
      "\n",
      "I chose to split each pronunciation into a **list** of the phonemes, so that it'd be easier to process.\n",
      "\n",
      "    dictionary[\"test\"] = [[u'T', u'EH', u'S', u'T']]\n",
      "    dictionary[\"question\"] = [[u'K', u'W', u'EH', u'S', u'CH', u'AH', u'N'],\n",
      "                             [u'K', u'W', u'EH', u'SH', u'AH', u'N']]\n",
      "    \n",
      "(The u's in front of the strings indicate they are unicode strings. That comes from how I encoded. It won't matter for what you are doing, since the Unicode code points for ASCII characters align with the ASCII numbers.)"
     ]
    },
    {
     "cell_type": "code",
     "collapsed": false,
     "input": [
      "dictionary[\"global\"] "
     ],
     "language": "python",
     "metadata": {},
     "outputs": [
      {
       "metadata": {},
       "output_type": "pyout",
       "prompt_number": 2,
       "text": [
        "[[u'G', u'L', u'OW', u'B', u'AH', u'L']]"
       ]
      }
     ],
     "prompt_number": 2
    },
    {
     "cell_type": "markdown",
     "metadata": {},
     "source": [
      "Ok, now the problem. Write three functions to do the following:\n",
      "\n",
      "1. `alliteration(w1, w2)`: True when w1 and w2 start with the same consonant\n",
      "2. `assonance(w1, w2)`: True when w1 and w2 share the same **first** vowel\n",
      "3. `rhyme(w1,w2)`: True when w1 and w2 rhyme (the rhymes are identical)\n",
      "\n",
      "Recall that some words have multiple pronunciations. Make sure to try all combinations (hint, you will need a `for` loop inside another `for` loop!)."
     ]
    },
    {
     "cell_type": "code",
     "collapsed": false,
     "input": [
      "import json\n",
      "f = open(\"cmdict7a.json\", \"r\")\n",
      "dictionary = json.load(f)\n",
      "f.close()\n",
      "\n",
      "\n",
      "v = \"aeiou\"\n",
      "\n",
      "#!!! Here you've go to all the effort of loading the dictionary, but then not used it for alliteration or assonance.\n",
      "#!!! As a result, this function will incorrectly say that \"shepard\" and \"simple\" are alliterative\n",
      "def alliteration(w1, w2):\n",
      "    \"\"\"says if w1 and w2 share the same initial consonant\"\"\"\n",
      "    #!!! Why use a for loop over a single character?\n",
      "    for char in w1[0]:\n",
      "        if char not in v: #if the first character in w1 (word 1) is a consonant\n",
      "            cons1 = char  #call it cons1\n",
      "    for char in w2[0]:\n",
      "        if char not in v:\n",
      "            cons2 = char #same for w2 (word 2), but cal it cons2\n",
      "    if cons1==cons2: #if w1 and w2 share the same initial consonant\n",
      "        return True\n",
      "    else:\n",
      "        return False\n",
      "\n",
      "def assonance(w1, w2):\n",
      "    \"\"\"says if w1 and w2 share the same first vowel\"\"\"\n",
      "    #!!! \"dune\" and \"tough\" assonate according to this function, because the 'u' in w2[2] will overwrite the 'o'\n",
      "    #!!! Similarly, \"door\" and \"ore\" will fail because the final 'e' of w2 is within the search scope.\n",
      "    for char in w1[0:3]:\n",
      "        if char in v:  #if the first character in w1 one is a vowel\n",
      "            vow1 = char #then call it vow1\n",
      "    for char in w2[0:3]:\n",
      "        if char in v:\n",
      "            vow2 = char #same for w2, but call it vow2\n",
      "    if vow1==vow2: #if w1 and w2  share the same first vowel\n",
      "        return True\n",
      "    else:\n",
      "        return False\n",
      "    \n",
      "def rhyme(w1, w2):\n",
      "    pronounce_list1 = dictionary[w1] #creates list from the dictionary entry for w1\n",
      "\n",
      "    pronounce_list2 = dictionary[w2] #creates list from the dictionary entry for w2\n",
      "\n",
      "    for p in pronounce_list1: #tells to look for each p in the dictionary for w1\n",
      "        #!!! Weird name for this variable, given what's getting assigned.\n",
      "        word1 = p[-3:]       # finds last 3 characters of p and assigns variable to them\n",
      "        for j in pronounce_list2: #does the same as above for second argument of rhyme\n",
      "            word2 = j[-3:]\n",
      "        if word1 == word2: #compares the last three arpabet characters of word1 with those of word2 and checks for equality\n",
      "            return True #rhyme\n",
      "        else:\n",
      "            return False #not rhyme\n",
      "    \n",
      "\n",
      "def doTest(s, f):\n",
      "    for w1,w2,val in s:\n",
      "        ret = f(w1,w2)\n",
      "        if ret == val:\n",
      "            suc = \"PASS\"\n",
      "        else:\n",
      "            suc = \"FAIL\"\n",
      "        print \"%15s(%s, %s)\\t=%s\\t\\t%s\\t%s\\n\" %(f.__name__,w1, w2, ret, val, suc)\n",
      "\n",
      "if __name__ == '__main__':\n",
      "    test = [(\"simple\", \"sample\", True), (\"trip\", \"took\", True),\n",
      "                        (\"trip\", \"rip\", False), (\"trap\", \"sample\", False)]\n",
      "    doTest(test, alliteration)\n",
      "    \n",
      "    test = [(\"simple\", \"sample\", False), (\"trip\", \"took\", False),\n",
      "                        (\"trip\", \"rip\", True), (\"trap\", \"sample\", True)]\n",
      "    doTest(test, assonance)\n",
      "    \n",
      "    test = [(\"simple\", \"sample\", True), (\"trip\", \"rip\", True),\n",
      "                        (\"trust\", \"rip\", False), (\"through\", \"rough\", False)]\n",
      "    doTest(test, rhyme)\n",
      "    \n",
      "    #print alliteration(\"shepard\", \"sample\")\n",
      "    #print assonance(\"door\", \"ore\")"
     ],
     "language": "python",
     "metadata": {},
     "outputs": [
      {
       "output_type": "stream",
       "stream": "stdout",
       "text": [
        "   alliteration(simple, sample)\t=True\t\tTrue\tPASS\n",
        "\n",
        "   alliteration(trip, took)\t=True\t\tTrue\tPASS\n",
        "\n",
        "   alliteration(trip, rip)\t=False\t\tFalse\tPASS\n",
        "\n",
        "   alliteration(trap, sample)\t=False\t\tFalse\tPASS\n",
        "\n",
        "      assonance(simple, sample)\t=False\t\tFalse\tPASS\n",
        "\n",
        "      assonance(trip, took)\t=False\t\tFalse\tPASS\n",
        "\n",
        "      assonance(trip, rip)\t=True\t\tTrue\tPASS\n",
        "\n",
        "      assonance(trap, sample)\t=True\t\tTrue\tPASS\n",
        "\n",
        "          rhyme(simple, sample)\t=True\t\tTrue\tPASS\n",
        "\n",
        "          rhyme(trip, rip)\t=True\t\tTrue\tPASS\n",
        "\n",
        "          rhyme(trust, rip)\t=False\t\tFalse\tPASS\n",
        "\n",
        "          rhyme(through, rough)\t=False\t\tFalse\tPASS\n",
        "\n",
        "False\n"
       ]
      }
     ],
     "prompt_number": 16
    },
    {
     "cell_type": "markdown",
     "metadata": {},
     "source": [
      "## Problem 8 (244 and Advanced Students Only)\n",
      "\n",
      "The CMU dictionary lacks syllabification. Write a program to syllabify any list of Arpabet phonemes. Sky's the limit."
     ]
    },
    {
     "cell_type": "code",
     "collapsed": false,
     "input": [],
     "language": "python",
     "metadata": {},
     "outputs": []
    }
   ],
   "metadata": {}
  }
 ]
}