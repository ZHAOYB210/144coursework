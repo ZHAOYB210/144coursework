{
 "metadata": {
  "name": ""
 },
 "nbformat": 3,
 "nbformat_minor": 0,
 "worksheets": [
  {
   "cells": [
    {
     "cell_type": "code",
     "collapsed": false,
     "input": [
      "sample = {'A': {'Z':1}, 'B': {\"Y\":2}, 'C': {\"X\":3}}\n",
      "def FreqContTab(freqList):\n",
      "    col = []\n",
      "    row = []\n",
      "    freq = []\n",
      "    for i in sorted(freqList):\n",
      "        row.append(i)\n",
      "        for c in freqList[i]:\n",
      "            col.append(c)\n",
      "            for d in freqList[i]:\n",
      "                freq.append(freqList[i][c])\n",
      "    for phon in col:\n",
      "        print phon, \n",
      "    for phon2 in row:\n",
      "        print phon2.rjust(len(col)*4)\n",
      "\n",
      "FreqContTab(sample)"
     ],
     "language": "python",
     "metadata": {},
     "outputs": [
      {
       "output_type": "stream",
       "stream": "stdout",
       "text": [
        "Z Y X            A\n",
        "           B\n",
        "           C\n"
       ]
      }
     ],
     "prompt_number": 23
    },
    {
     "cell_type": "code",
     "collapsed": false,
     "input": [],
     "language": "python",
     "metadata": {},
     "outputs": []
    }
   ],
   "metadata": {}
  }
 ]
}