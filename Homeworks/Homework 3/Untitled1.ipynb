{
 "metadata": {
  "name": ""
 },
 "nbformat": 3,
 "nbformat_minor": 0,
 "worksheets": [
  {
   "cells": [
    {
     "cell_type": "code",
     "collapsed": false,
     "input": [
      "sample = {'A': {'Z':1}, 'B': {\"Y\":2}, 'C': {\"X\":3}}\n",
      "def FreqContTab(freqList):\n",
      "    for i in sorted(freqList):\n",
      "        li = []\n",
      "        print \n",
      "    print te\n",
      "    for c in freqList[i]:\n",
      "        print '{:>6}'.format(c)\n",
      "    for d in freqList[i]:\n",
      "            print '{:>6}'.format(freqList[i][c])\n",
      "            break\n",
      "\n",
      "\n",
      "FreqContTab(sample)"
     ],
     "language": "python",
     "metadata": {},
     "outputs": [
      {
       "output_type": "stream",
       "stream": "stdout",
       "text": [
        "  None\n",
        "  None\n",
        "  None\n",
        "[{'Z': 1}, {'Y': 2}, {'X': 3}]\n",
        "     X\n",
        "     3\n"
       ]
      }
     ],
     "prompt_number": 17
    },
    {
     "cell_type": "code",
     "collapsed": false,
     "input": [],
     "language": "python",
     "metadata": {},
     "outputs": []
    }
   ],
   "metadata": {}
  }
 ]
}