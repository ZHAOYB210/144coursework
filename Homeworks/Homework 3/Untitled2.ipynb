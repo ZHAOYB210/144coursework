{
 "metadata": {
  "name": ""
 },
 "nbformat": 3,
 "nbformat_minor": 0,
 "worksheets": [
  {
   "cells": [
    {
     "cell_type": "code",
     "collapsed": false,
     "input": [
      "import re\n",
      "from sets import Set\n",
      "sample = {u'AH': {u'CH': 1, u'K': 4}, u'CH': {u'AH': 4}, u'D': {u'CH': 1}, u'HH': {u'AW': 1}, u'IH': {u'F': 1}, u'K': {u'UH': 2}, u'M': {u'AH': 1}, u'UH': {u'D': 6}, u'W': {u'UH': 4}}\n",
      "def FreqContTab(freqList):\n",
      "    phon = Set()\n",
      "    for i in freqList:\n",
      "        phon.add(i)\n",
      "        for j in freqList[i]:\n",
      "            phon.add(j)\n",
      "    for col in sorted(phon):\n",
      "        print '%3s' % col,\n",
      "    print\n",
      "    for row in sorted(phon):\n",
      "        for col in sorted(phon):\n",
      "            if row in freqList and col in freqList[row]:\n",
      "                print '%3d' % freqList[row][col],\n",
      "            else:\n",
      "                print '   ',\n",
      "        print row\n",
      "    \n",
      "FreqContTab(sample)"
     ],
     "language": "python",
     "metadata": {},
     "outputs": [
      {
       "output_type": "stream",
       "stream": "stdout",
       "text": [
        " AH  AW  CH   D   F  HH  IH   K   M  UH   W\n",
        "          1                   4             AH\n",
        "                                            AW\n",
        "  4                                         CH\n",
        "          1                                 D\n",
        "                                            F\n",
        "      1                                     HH\n",
        "                  1                         IH\n",
        "                                      2     K\n",
        "  1                                         M\n",
        "              6                             UH\n",
        "                                      4     W\n"
       ]
      }
     ],
     "prompt_number": 1
    },
    {
     "cell_type": "code",
     "collapsed": false,
     "input": [],
     "language": "python",
     "metadata": {},
     "outputs": []
    }
   ],
   "metadata": {}
  }
 ]
}