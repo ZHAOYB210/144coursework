{
 "metadata": {
  "name": ""
 },
 "nbformat": 3,
 "nbformat_minor": 0,
 "worksheets": [
  {
   "cells": [
    {
     "cell_type": "code",
     "collapsed": false,
     "input": [
      "def phonFreq(phonList):\n",
      "    freqDict = {}\n",
      "    for word in phonList:  #compare 2 phonemes (word[first][next])\n",
      "        for i in range(len(word)-1):\n",
      "            if word[i] not in freqDict:\n",
      "                freqDict[word[i]] = { word[i+1]: 1 }\n",
      "            elif word[i+1] in freqDict[word[i]]:\n",
      "                freqDict[word[i]][word[i+1]] += 1\n",
      "            else:\n",
      "                freqDict[word[i]][word[i+1]] = 1\n",
      "                \n",
      "    for key in sorted(freqDict.iterkeys()):\n",
      "        print \"%s: %s\" % (key, freqDict[key])\n",
      "      \n",
      "    return \n",
      "    \n",
      "if __name__ == \"__main__\":\n",
      "   phonFreq([[u'HH', u'AW'], [u'M', u'AH', u'CH'], [u'W', u'UH', u'D'], [u'K', u'UH', u'D'], [u'AH'], [u'W', u'UH', u'D'], [u'CH', u'AH', u'K'], [u'CH', u'AH', u'K'], [u'IH', u'F'], [u'AH'], [u'W', u'UH', u'D', u'CH', u'AH', u'K'], [u'K', u'UH', u'D'], [u'CH', u'AH', u'K'], [u'W', u'UH', u'D']])"
     ],
     "language": "python",
     "metadata": {},
     "outputs": [
      {
       "output_type": "stream",
       "stream": "stdout",
       "text": [
        "AH: {u'K': 4, u'CH': 1}\n",
        "CH: {u'AH': 4}\n",
        "D: {u'CH': 1}\n",
        "HH: {u'AW': 1}\n",
        "IH: {u'F': 1}\n",
        "K: {u'UH': 2}\n",
        "M: {u'AH': 1}\n",
        "UH: {u'D': 6}\n",
        "W: {u'UH': 4}\n"
       ]
      }
     ],
     "prompt_number": 2
    },
    {
     "cell_type": "code",
     "collapsed": false,
     "input": [],
     "language": "python",
     "metadata": {},
     "outputs": []
    }
   ],
   "metadata": {}
  }
 ]
}