{
 "metadata": {
  "name": ""
 },
 "nbformat": 3,
 "nbformat_minor": 0,
 "worksheets": [
  {
   "cells": [
    {
     "cell_type": "markdown",
     "metadata": {},
     "source": [
      "## Problem 1\n",
      "\n",
      "A) For testStr below, write the regular expression `sub` call that replaces all instances of `(sub)` with  `$%\\*$1\\1`"
     ]
    },
    {
     "cell_type": "code",
     "collapsed": false,
     "input": [
      "testStr = \"\"\"Down in my sub, I wanted to\n",
      "submit to something (substantial) that wouldn't\n",
      "lead to subalterns calling in{sub}ordination, or anything else\n",
      "that I could (sub).\"\"\""
     ],
     "language": "python",
     "metadata": {},
     "outputs": [],
     "prompt_number": 2
    },
    {
     "cell_type": "code",
     "collapsed": false,
     "input": [
      "import re\n",
      "subRE = re.compile(r'\\(sub\\)') #finds (sub)\n",
      "out =  subRE.sub(r'$%\\\\*$1\\\\1', testStr) #replaces (sub) with $%\\*$1\\1\n",
      "print out"
     ],
     "language": "python",
     "metadata": {},
     "outputs": [
      {
       "output_type": "stream",
       "stream": "stdout",
       "text": [
        "Down in my sub, I wanted to\n",
        "submit to something (substantial) that wouldn't\n",
        "lead to subalterns calling in{sub}ordination, or anything else\n",
        "that I could $%\\*$1\\1.\n"
       ]
      }
     ],
     "prompt_number": 3
    },
    {
     "cell_type": "markdown",
     "metadata": {},
     "source": [
      "B) Now, write another regular expression to substitute `$%\\*$1\\1` with `(sub)`. You'll know you have it right because the output will be identical to `testStr`."
     ]
    },
    {
     "cell_type": "code",
     "collapsed": false,
     "input": [
      "otherFind = re.compile(r'\\$%\\\\\\*\\$1\\\\1') #finds $%\\*$1\\1 with special re characters escaped\n",
      "print otherFind.sub('(sub)', out) == testStr #substitutes $%\\*$1\\1 with (sub) and returns truth value for otherFind.sub == testStr\n"
     ],
     "language": "python",
     "metadata": {},
     "outputs": [
      {
       "output_type": "stream",
       "stream": "stdout",
       "text": [
        "True\n"
       ]
      }
     ],
     "prompt_number": 4
    },
    {
     "cell_type": "markdown",
     "metadata": {},
     "source": [
      "##Problem 2\n",
      "\n",
      "In this directory, I have provided the file `romanticism.txt`. Please open it and read the entire contents into one string. You can use the `read()` method of the file object to do that. \n",
      "\n",
      "Now the format of the file is like this:\n",
      "\n",
      "line 1: a title line, containing a title and then some citational material and/or other stuff\n",
      "\n",
      "line 2: blank \n",
      "\n",
      "line 3: the url of the resource\n",
      "\n",
      "line 4: blank\n",
      "\n",
      "line 5: like line 1\n",
      "\n",
      "line 6: like line 2\n",
      "\n",
      "etc.\n",
      "\n",
      "Your task here is to use regular expressions to make these into proper HTML links. In html, links use the **anchor** tag, like so:\n",
      "\n",
      "    <a href=\"url\" target=\"BLANK\">link text</a>\n",
      "\n",
      "Please save your output in the string `output`. As you can see in the following line, I'm using that name to display the output as HTML using the `HTML` function from `IPython.display`. You obviously can change this code to your liking. I'm just trying to get things to print in a way that is easy to read. [More here](http://nbviewer.ipython.org/urls/raw.github.com/ipython/ipython/1.x/examples/notebooks/Part%205%20-%20Rich%20Display%20System.ipynb)"
     ]
    },
    {
     "cell_type": "code",
     "collapsed": false,
     "input": [
      "import os\n",
      "os.chdir(\"/Users/ibersue/Documents/Computational Methods /144coursework/Homeworks/Homework 4\")\n",
      "os.getcwd()\n",
      "\n",
      "rompath = \"./romanticism.txt\"\n",
      "f = open(rompath, \"r\") \n",
      "b = f.read()\n",
      "\n",
      "\n",
      "\n",
      "fRE = re.compile(r'(?P<title>^\\b[aA-Z0-9].+?(?=[(:,]))(?P<subtitle>:|[(:,].+(?=[:\\n]))\\n\\n(?P<url>^.*$)\\n', re.MULTILINE)\n",
      "output =  fRE.sub(r'<a href= \\g<url> target= \"BLANK\"> \\g<title> </a>\\g<subtitle><br>', b)\n",
      "\n",
      "#fRE = re.compile(r'(?P<title>^\\b[aA-Z0-9].+?(?=[(:,]))(?P<subtitle>[(:,].+[:\\n])|(?P<url>\\b(http://.+)|(gopher://.+\\b))', re.MULTILINE) #check in debuggex? \n",
      "#(?P<subtitle>(?<=(?P=title))[(:,].+?[):])\n",
      "\n",
      "#newRE = re.compile(r'(?P<title>\\b[aA-Z0-9].+?(?=[\\(:,]))', re.MULTILINE) #find all website titles\n",
      "\n",
      "#can use (?P=url) and (?P=title) to backreference\n",
      "\n",
      "#inputstr = newRE.sub(r'\\g<title>', b)\n",
      "#output =  fRE.sub(r'<a href= (|\\g<url>) target= \"BLANK\"> (|\\g<title>)  </a> (|\\g<subtitle>)', b) #currently urls are correct but not titles. Almost to the format he wants.\n",
      "\n",
      "#output = newRE.sub(r'<a href=\\g<url> target= \"BLANK\"> \\g<title>  </a>', outputs)\n",
      "\n",
      "\n",
      "#print fRE.findall(b)"
     ],
     "language": "python",
     "metadata": {},
     "outputs": [],
     "prompt_number": 160
    },
    {
     "cell_type": "code",
     "collapsed": false,
     "input": [
      "from IPython.display import HTML\n",
      "HTML(output)\n"
     ],
     "language": "python",
     "metadata": {},
     "outputs": [
      {
       "html": [
        "<a href= http://english.ucsb.edu:591/rchrono/ target= \"BLANK\"> Romantic Chronology  </a>(UC Santa Barbara & Miami U., Ohio):<br>\n",
        "<a href= http://www.lib.ucdavis.edu/English/BWRP/index.htm target= \"BLANK\"> British Women Romantic Poets </a>, 1789-1832 (U of Cal. Davis):<br>\n",
        "<a href= http://www.qub.ac.uk/english/shuttle/rom-chrono/chrono.htm target= \"BLANK\"> The European Mirror of the Romantic Chronology  </a>(Queen's U., Belfast):<br>\n",
        "<a href= http://etext.lib.virginia.edu/modeng.browse.html target= \"BLANK\"> The Modern English Collection at the Electronic Center  </a>(UVa)<br>\n",
        "<a href= http://etext.lib.virginia.edu/britpo.html target= \"BLANK\"> British Poetry 1780-1910 </a>: A Hypermedia Archive of Scholarly Editions (UVA), co-editor, Jerome McGann:<br>\n",
        "<a href= http://jefferson.village.virginia.edu/blake/ target= \"BLANK\"> Blake Archive  </a>(hosted at UVA), directed by Morris Eaves, Robert N. Essick, and Joseph Viscomi:<br>\n",
        "<a href= gopher://dept.english.upenn.edu:70/11/Courses target= \"BLANK\"> The UPenn Gopher  </a>(with its substantial non-canonical Romantics holdings):<br>\n",
        "<a href= gopher://dept.english.upenn.edu/11/E-Text/PEAL target= \"BLANK\"> also known as PEAL </a>: Penn English Archive and Library<br>\n",
        "<a href= http://dept.english.upenn.edu/~mgamer/Romantic/ target= \"BLANK\"> Romantic Links and Home Pages  </a>(Univ.of Penna.), Michael Gamer<br>\n",
        "<a href= http://gopher.upenn.edu/pennprintout/html/v11/3/creature.html target= \"BLANK\"> The Frankenstein Project  </a>(U. Penn):<br>\n",
        "<a href= http://www.rc.umd.edu/ target= \"BLANK\"> Romantic Circles Project  </a>(Second-Generation Romantics and Their Circle), major participants, Donald Reiman, Neil Fraistat, Carl Stahmer:<br>\n",
        "<a href= http://fay.english.umb.edu/ target= \"BLANK\"> Bluestocking Archive  </a>(U. Mass.), Elizabeth Fay:<br>\n",
        "<a href= http://www.nottingham.ac.uk/~aezacweb/wrew.htm target= \"BLANK\"> Romantic Women Writers Page  </a>(Nottingham U., U.K.), Adriana Craciun:<br>\n",
        "<a href= http://users.ox.ac.uk/~scat0385 target= \"BLANK\"> Romanticism on the Net  </a>(Oxford U., England):<br>\n",
        "<a href= http://www.ualberta.ca/~dmiall/ROMCDINF.HTM target= \"BLANK\"> Romanticsm CD-ROM  </a>(U. of Alberta):<br>\n",
        "<a href= http://www.en.utexas.edu target= \"BLANK\"> Romanticism at UT Austin </a>, Computer Writing and Research Lab of UT Austin directed by Daniel Anderson:<br>\n",
        "<a href= http://www.cwrl.utexas.edu/~worp target= \"BLANK\"> Women of the Romantic Period  </a>(UT Austin), Daniel Anderson and Morri Safran:<br>\n",
        "<a href= http://www.usc.edu/dept/LAS/english/19c/newbooks.html target= \"BLANK\"> New Books in 19th-Century Studies </a>:<br>\n",
        "<a href= http://www.luc.edu/publications/keats-shelley/ksjweb.htm target= \"BLANK\"> The Keats-Shelley Journal Home Page </a>, ed. Steven E. Jones<br>\n",
        "<a href= http://lang.nagoya-u.ac.jp/~matsuoka/19th-authors.html target= \"BLANK\"> 19th Century British and Irish Authors </a>, Mitsuharu Matsuoka (Nagoya University):<br>\n",
        "<a href= http://lang.nagoya-u.ac.jp/~matsuoka/Victorian.html target= \"BLANK\"> Victorian Web Sites </a>, Mitsuharu Matsuoka (Nagoya University):<br>\n"
       ],
       "metadata": {},
       "output_type": "pyout",
       "prompt_number": 161,
       "text": [
        "<IPython.core.display.HTML at 0x103a2d0d0>"
       ]
      }
     ],
     "prompt_number": 161
    },
    {
     "cell_type": "markdown",
     "metadata": {},
     "source": [
      "## Problem 3\n",
      "\n",
      "The file `ssns.txt` contains a raw text grab of the geneology website [SortedByName](http://sortedbyname.com). You can have a look. Your job in this problem is to convert that raw list of text into a list of dictionaries, of the following sort:\n",
      "\n",
      "    {\"last\": \"Abrams\", \"first\": \"Bobby\", \"born\": \"23 December 1929\", \"died\": \"03 September 2003\", \"ssn\": \"231-28-2235\"}\n",
      "    \n",
      "Note that as someone without a middle name, I don't care to store them."
     ]
    },
    {
     "cell_type": "code",
     "collapsed": false,
     "input": [
      "import re\n",
      "def skip(line):\n",
      "    \"\"\"this is a series of statements about what kind of lines have junk in them\"\"\"\n",
      "    if re.match(r'married.+?\\).', line):\n",
      "        return 0\n",
      "    elif re.match(r'^Here.+$', line):\n",
      "        return 0\n",
      "\n",
      "ssnspath = \".//ssns.txt\"\n",
      "f = open(ssnspath, \"r\") \n",
      "b = t.read()#open file, set it to s\n",
      "\n",
      "name = re.compile(r'(?P<name>[A-Z]+,\\s[A-Z]+)')  #finds capital letters followed by a comma, a space, and more capital letters\n",
      "born = re.compile(r'(?P<born>\\bborn\\s\\d{2}\\s\\w+\\s\\d{4})') #finds born followed by 2 numbers (the day), a space, word characters, and 4 more numbers (the year)\n",
      "died = re.compile(r'(?P<died>\\bdied\\s\\d{2}\\s\\w+\\s\\d{4})')#finds died followed by 2 numbers (the day), a space, word characters, and 4 more numbers (year)\n",
      "ssn = re.compile(r'(?P<ssn>\\d{3}-?\\d{2}-?\\d{4})') #finds 3 digitis followed by a dash followed by 2 more digits, another dash, and then 4 more digits\n",
      "         \n",
      "results = []\n",
      "for li in f:\n",
      "    if skip(li):\n",
      "        continue\n",
      "    newPerson = {}\n",
      "\n",
      "    match = name.search(li)\n",
      "    if match: #it found something\n",
      "        newPerson[\"first\"] =  match.groups()[0]\n",
      "        newPerson[\"last\"] = match.groups()[]\n",
      "        newPerson[\"born\"] = match.groups()[]\n",
      "        newPerson[\"ssn\"] = match.groups()[]\n",
      "        newPerson[\"died\"] = match.groups()[]\n",
      "\n",
      "    #etc.\n",
      "    \n",
      "    results.append(newPerson) #trying to add newPerson to results\n",
      "\n",
      "print results\n",
      "\n",
      "#print b\n",
      "\n",
      "#name.findall(b)     #these demonstrate that all of my regexes work fine\n",
      "#born.findall(b)\n",
      "#died.findall(b)\n",
      "#ssn.findall(b)\n",
      "\n"
     ],
     "language": "python",
     "metadata": {},
     "outputs": [
      {
       "ename": "IndexError",
       "evalue": "tuple index out of range",
       "output_type": "pyerr",
       "traceback": [
        "\u001b[0;31m---------------------------------------------------------------------------\u001b[0m\n\u001b[0;31mIndexError\u001b[0m                                Traceback (most recent call last)",
        "\u001b[0;32m<ipython-input-168-4aaa2713f383>\u001b[0m in \u001b[0;36m<module>\u001b[0;34m()\u001b[0m\n\u001b[1;32m     25\u001b[0m     \u001b[0;32mif\u001b[0m \u001b[0mmatch\u001b[0m\u001b[0;34m:\u001b[0m \u001b[0;31m#it found something\u001b[0m\u001b[0;34m\u001b[0m\u001b[0m\n\u001b[1;32m     26\u001b[0m         \u001b[0mnewPerson\u001b[0m\u001b[0;34m[\u001b[0m\u001b[0;34m\"first\"\u001b[0m\u001b[0;34m]\u001b[0m \u001b[0;34m=\u001b[0m  \u001b[0mmatch\u001b[0m\u001b[0;34m.\u001b[0m\u001b[0mgroups\u001b[0m\u001b[0;34m(\u001b[0m\u001b[0;34m)\u001b[0m\u001b[0;34m[\u001b[0m\u001b[0;36m0\u001b[0m\u001b[0;34m]\u001b[0m\u001b[0;34m\u001b[0m\u001b[0m\n\u001b[0;32m---> 27\u001b[0;31m         \u001b[0mnewPerson\u001b[0m\u001b[0;34m[\u001b[0m\u001b[0;34m\"last\"\u001b[0m\u001b[0;34m]\u001b[0m \u001b[0;34m=\u001b[0m \u001b[0mmatch\u001b[0m\u001b[0;34m.\u001b[0m\u001b[0mgroups\u001b[0m\u001b[0;34m(\u001b[0m\u001b[0;34m)\u001b[0m\u001b[0;34m[\u001b[0m\u001b[0;36m1\u001b[0m\u001b[0;34m]\u001b[0m\u001b[0;34m\u001b[0m\u001b[0m\n\u001b[0m\u001b[1;32m     28\u001b[0m         \u001b[0mnewPerson\u001b[0m\u001b[0;34m[\u001b[0m\u001b[0;34m\"born\"\u001b[0m\u001b[0;34m]\u001b[0m \u001b[0;34m=\u001b[0m \u001b[0mmatch\u001b[0m\u001b[0;34m.\u001b[0m\u001b[0mgroups\u001b[0m\u001b[0;34m(\u001b[0m\u001b[0;34m)\u001b[0m\u001b[0;34m[\u001b[0m\u001b[0;36m2\u001b[0m\u001b[0;34m]\u001b[0m\u001b[0;34m\u001b[0m\u001b[0m\n\u001b[1;32m     29\u001b[0m         \u001b[0mnewPerson\u001b[0m\u001b[0;34m[\u001b[0m\u001b[0;34m\"ssn\"\u001b[0m\u001b[0;34m]\u001b[0m \u001b[0;34m=\u001b[0m \u001b[0mmatch\u001b[0m\u001b[0;34m.\u001b[0m\u001b[0mgroups\u001b[0m\u001b[0;34m(\u001b[0m\u001b[0;34m)\u001b[0m\u001b[0;34m[\u001b[0m\u001b[0;36m3\u001b[0m\u001b[0;34m]\u001b[0m\u001b[0;34m\u001b[0m\u001b[0m\n",
        "\u001b[0;31mIndexError\u001b[0m: tuple index out of range"
       ]
      }
     ],
     "prompt_number": 168
    },
    {
     "cell_type": "markdown",
     "metadata": {},
     "source": [
      "## Problem 4\n",
      "\n",
      "Write function `addHTMLTag` so that it wraps every instance of `word` in `string` with tag `tag`"
     ]
    },
    {
     "cell_type": "code",
     "collapsed": false,
     "input": [
      "def addHTMLbold(word, string, tag):\n",
      "    \"\"\"this looks for word in string, and wraps all occurrences with tag and end_tag\"\"\"\n",
      "    wordRE = re.compile(r'(?P<wordy>\\bword\\b)', string)\n",
      "    # you will need to set up some stuff here...\n",
      "    \n",
      "    #loop through the matches to the string one at a time\n",
      "    for m in wordRE.finditer(string):\n",
      "        found = string[m.start(word):m.end(word)]\n",
      "        wordRE.append[string[found]]\n",
      "        #now use a format to get the tagged text\n",
      "        #wordRE.sub(r'tag\\g<word></b>', string)\n",
      "        \n",
      "        #and add the tagged part\n",
      "\n",
      "    #here, don't forget to add the start of the string, the end, and whatever is in between the matches\n",
      "    return string #change this!!!!\n",
      "\n",
      "mod = addHTMLbold(\"test\", \"This is a test testy to see what testy retests test out\", \"em\")\n",
      "HTML(mod)\n",
      "mod2 = addHTMLbold(\"is\", mod, \"strong\")\n",
      "HTML(mod2)\n"
     ],
     "language": "python",
     "metadata": {},
     "outputs": [
      {
       "ename": "TypeError",
       "evalue": "unsupported operand type(s) for &: 'str' and 'int'",
       "output_type": "pyerr",
       "traceback": [
        "\u001b[0;31m---------------------------------------------------------------------------\u001b[0m\n\u001b[0;31mTypeError\u001b[0m                                 Traceback (most recent call last)",
        "\u001b[0;32m<ipython-input-169-bc850cd735c3>\u001b[0m in \u001b[0;36m<module>\u001b[0;34m()\u001b[0m\n\u001b[1;32m     16\u001b[0m     \u001b[0;32mreturn\u001b[0m \u001b[0mstring\u001b[0m \u001b[0;31m#change this!!!!\u001b[0m\u001b[0;34m\u001b[0m\u001b[0m\n\u001b[1;32m     17\u001b[0m \u001b[0;34m\u001b[0m\u001b[0m\n\u001b[0;32m---> 18\u001b[0;31m \u001b[0mmod\u001b[0m \u001b[0;34m=\u001b[0m \u001b[0maddHTMLbold\u001b[0m\u001b[0;34m(\u001b[0m\u001b[0;34m\"test\"\u001b[0m\u001b[0;34m,\u001b[0m \u001b[0;34m\"This is a test testy to see what testy retests test out\"\u001b[0m\u001b[0;34m,\u001b[0m \u001b[0;34m\"em\"\u001b[0m\u001b[0;34m)\u001b[0m\u001b[0;34m\u001b[0m\u001b[0m\n\u001b[0m\u001b[1;32m     19\u001b[0m \u001b[0mHTML\u001b[0m\u001b[0;34m(\u001b[0m\u001b[0mmod\u001b[0m\u001b[0;34m)\u001b[0m\u001b[0;34m\u001b[0m\u001b[0m\n\u001b[1;32m     20\u001b[0m \u001b[0mmod2\u001b[0m \u001b[0;34m=\u001b[0m \u001b[0maddHTMLbold\u001b[0m\u001b[0;34m(\u001b[0m\u001b[0;34m\"is\"\u001b[0m\u001b[0;34m,\u001b[0m \u001b[0mmod\u001b[0m\u001b[0;34m,\u001b[0m \u001b[0;34m\"strong\"\u001b[0m\u001b[0;34m)\u001b[0m\u001b[0;34m\u001b[0m\u001b[0m\n",
        "\u001b[0;32m<ipython-input-169-bc850cd735c3>\u001b[0m in \u001b[0;36maddHTMLbold\u001b[0;34m(word, string, tag)\u001b[0m\n\u001b[1;32m      1\u001b[0m \u001b[0;32mdef\u001b[0m \u001b[0maddHTMLbold\u001b[0m\u001b[0;34m(\u001b[0m\u001b[0mword\u001b[0m\u001b[0;34m,\u001b[0m \u001b[0mstring\u001b[0m\u001b[0;34m,\u001b[0m \u001b[0mtag\u001b[0m\u001b[0;34m)\u001b[0m\u001b[0;34m:\u001b[0m\u001b[0;34m\u001b[0m\u001b[0m\n\u001b[1;32m      2\u001b[0m     \u001b[0;34m\"\"\"this looks for word in string, and wraps all occurrences with tag and end_tag\"\"\"\u001b[0m\u001b[0;34m\u001b[0m\u001b[0m\n\u001b[0;32m----> 3\u001b[0;31m     \u001b[0mwordRE\u001b[0m \u001b[0;34m=\u001b[0m \u001b[0mre\u001b[0m\u001b[0;34m.\u001b[0m\u001b[0mcompile\u001b[0m\u001b[0;34m(\u001b[0m\u001b[0;34mr'(?P<wordy>\\bword\\b)'\u001b[0m\u001b[0;34m,\u001b[0m \u001b[0mstring\u001b[0m\u001b[0;34m)\u001b[0m\u001b[0;34m\u001b[0m\u001b[0m\n\u001b[0m\u001b[1;32m      4\u001b[0m     \u001b[0;31m# you will need to set up some stuff here...\u001b[0m\u001b[0;34m\u001b[0m\u001b[0;34m\u001b[0m\u001b[0m\n\u001b[1;32m      5\u001b[0m \u001b[0;34m\u001b[0m\u001b[0m\n",
        "\u001b[0;32m/Users/ibersue/anaconda/python.app/Contents/lib/python2.7/re.pyc\u001b[0m in \u001b[0;36mcompile\u001b[0;34m(pattern, flags)\u001b[0m\n\u001b[1;32m    188\u001b[0m \u001b[0;32mdef\u001b[0m \u001b[0mcompile\u001b[0m\u001b[0;34m(\u001b[0m\u001b[0mpattern\u001b[0m\u001b[0;34m,\u001b[0m \u001b[0mflags\u001b[0m\u001b[0;34m=\u001b[0m\u001b[0;36m0\u001b[0m\u001b[0;34m)\u001b[0m\u001b[0;34m:\u001b[0m\u001b[0;34m\u001b[0m\u001b[0m\n\u001b[1;32m    189\u001b[0m     \u001b[0;34m\"Compile a regular expression pattern, returning a pattern object.\"\u001b[0m\u001b[0;34m\u001b[0m\u001b[0m\n\u001b[0;32m--> 190\u001b[0;31m     \u001b[0;32mreturn\u001b[0m \u001b[0m_compile\u001b[0m\u001b[0;34m(\u001b[0m\u001b[0mpattern\u001b[0m\u001b[0;34m,\u001b[0m \u001b[0mflags\u001b[0m\u001b[0;34m)\u001b[0m\u001b[0;34m\u001b[0m\u001b[0m\n\u001b[0m\u001b[1;32m    191\u001b[0m \u001b[0;34m\u001b[0m\u001b[0m\n\u001b[1;32m    192\u001b[0m \u001b[0;32mdef\u001b[0m \u001b[0mpurge\u001b[0m\u001b[0;34m(\u001b[0m\u001b[0;34m)\u001b[0m\u001b[0;34m:\u001b[0m\u001b[0;34m\u001b[0m\u001b[0m\n",
        "\u001b[0;32m/Users/ibersue/anaconda/python.app/Contents/lib/python2.7/re.pyc\u001b[0m in \u001b[0;36m_compile\u001b[0;34m(*key)\u001b[0m\n\u001b[1;32m    238\u001b[0m         \u001b[0;32mraise\u001b[0m \u001b[0mTypeError\u001b[0m\u001b[0;34m,\u001b[0m \u001b[0;34m\"first argument must be string or compiled pattern\"\u001b[0m\u001b[0;34m\u001b[0m\u001b[0m\n\u001b[1;32m    239\u001b[0m     \u001b[0;32mtry\u001b[0m\u001b[0;34m:\u001b[0m\u001b[0;34m\u001b[0m\u001b[0m\n\u001b[0;32m--> 240\u001b[0;31m         \u001b[0mp\u001b[0m \u001b[0;34m=\u001b[0m \u001b[0msre_compile\u001b[0m\u001b[0;34m.\u001b[0m\u001b[0mcompile\u001b[0m\u001b[0;34m(\u001b[0m\u001b[0mpattern\u001b[0m\u001b[0;34m,\u001b[0m \u001b[0mflags\u001b[0m\u001b[0;34m)\u001b[0m\u001b[0;34m\u001b[0m\u001b[0m\n\u001b[0m\u001b[1;32m    241\u001b[0m     \u001b[0;32mexcept\u001b[0m \u001b[0merror\u001b[0m\u001b[0;34m,\u001b[0m \u001b[0mv\u001b[0m\u001b[0;34m:\u001b[0m\u001b[0;34m\u001b[0m\u001b[0m\n\u001b[1;32m    242\u001b[0m         \u001b[0;32mraise\u001b[0m \u001b[0merror\u001b[0m\u001b[0;34m,\u001b[0m \u001b[0mv\u001b[0m \u001b[0;31m# invalid expression\u001b[0m\u001b[0;34m\u001b[0m\u001b[0m\n",
        "\u001b[0;32m/Users/ibersue/anaconda/python.app/Contents/lib/python2.7/sre_compile.pyc\u001b[0m in \u001b[0;36mcompile\u001b[0;34m(p, flags)\u001b[0m\n\u001b[1;32m    499\u001b[0m     \u001b[0;32mif\u001b[0m \u001b[0misstring\u001b[0m\u001b[0;34m(\u001b[0m\u001b[0mp\u001b[0m\u001b[0;34m)\u001b[0m\u001b[0;34m:\u001b[0m\u001b[0;34m\u001b[0m\u001b[0m\n\u001b[1;32m    500\u001b[0m         \u001b[0mpattern\u001b[0m \u001b[0;34m=\u001b[0m \u001b[0mp\u001b[0m\u001b[0;34m\u001b[0m\u001b[0m\n\u001b[0;32m--> 501\u001b[0;31m         \u001b[0mp\u001b[0m \u001b[0;34m=\u001b[0m \u001b[0msre_parse\u001b[0m\u001b[0;34m.\u001b[0m\u001b[0mparse\u001b[0m\u001b[0;34m(\u001b[0m\u001b[0mp\u001b[0m\u001b[0;34m,\u001b[0m \u001b[0mflags\u001b[0m\u001b[0;34m)\u001b[0m\u001b[0;34m\u001b[0m\u001b[0m\n\u001b[0m\u001b[1;32m    502\u001b[0m     \u001b[0;32melse\u001b[0m\u001b[0;34m:\u001b[0m\u001b[0;34m\u001b[0m\u001b[0m\n\u001b[1;32m    503\u001b[0m         \u001b[0mpattern\u001b[0m \u001b[0;34m=\u001b[0m \u001b[0mNone\u001b[0m\u001b[0;34m\u001b[0m\u001b[0m\n",
        "\u001b[0;32m/Users/ibersue/anaconda/python.app/Contents/lib/python2.7/sre_parse.pyc\u001b[0m in \u001b[0;36mparse\u001b[0;34m(str, flags, pattern)\u001b[0m\n\u001b[1;32m    684\u001b[0m     \u001b[0mpattern\u001b[0m\u001b[0;34m.\u001b[0m\u001b[0mstr\u001b[0m \u001b[0;34m=\u001b[0m \u001b[0mstr\u001b[0m\u001b[0;34m\u001b[0m\u001b[0m\n\u001b[1;32m    685\u001b[0m \u001b[0;34m\u001b[0m\u001b[0m\n\u001b[0;32m--> 686\u001b[0;31m     \u001b[0mp\u001b[0m \u001b[0;34m=\u001b[0m \u001b[0m_parse_sub\u001b[0m\u001b[0;34m(\u001b[0m\u001b[0msource\u001b[0m\u001b[0;34m,\u001b[0m \u001b[0mpattern\u001b[0m\u001b[0;34m,\u001b[0m \u001b[0;36m0\u001b[0m\u001b[0;34m)\u001b[0m\u001b[0;34m\u001b[0m\u001b[0m\n\u001b[0m\u001b[1;32m    687\u001b[0m \u001b[0;34m\u001b[0m\u001b[0m\n\u001b[1;32m    688\u001b[0m     \u001b[0mtail\u001b[0m \u001b[0;34m=\u001b[0m \u001b[0msource\u001b[0m\u001b[0;34m.\u001b[0m\u001b[0mget\u001b[0m\u001b[0;34m(\u001b[0m\u001b[0;34m)\u001b[0m\u001b[0;34m\u001b[0m\u001b[0m\n",
        "\u001b[0;32m/Users/ibersue/anaconda/python.app/Contents/lib/python2.7/sre_parse.pyc\u001b[0m in \u001b[0;36m_parse_sub\u001b[0;34m(source, state, nested)\u001b[0m\n\u001b[1;32m    307\u001b[0m     \u001b[0msourcematch\u001b[0m \u001b[0;34m=\u001b[0m \u001b[0msource\u001b[0m\u001b[0;34m.\u001b[0m\u001b[0mmatch\u001b[0m\u001b[0;34m\u001b[0m\u001b[0m\n\u001b[1;32m    308\u001b[0m     \u001b[0;32mwhile\u001b[0m \u001b[0;36m1\u001b[0m\u001b[0;34m:\u001b[0m\u001b[0;34m\u001b[0m\u001b[0m\n\u001b[0;32m--> 309\u001b[0;31m         \u001b[0mitemsappend\u001b[0m\u001b[0;34m(\u001b[0m\u001b[0m_parse\u001b[0m\u001b[0;34m(\u001b[0m\u001b[0msource\u001b[0m\u001b[0;34m,\u001b[0m \u001b[0mstate\u001b[0m\u001b[0;34m)\u001b[0m\u001b[0;34m)\u001b[0m\u001b[0;34m\u001b[0m\u001b[0m\n\u001b[0m\u001b[1;32m    310\u001b[0m         \u001b[0;32mif\u001b[0m \u001b[0msourcematch\u001b[0m\u001b[0;34m(\u001b[0m\u001b[0;34m\"|\"\u001b[0m\u001b[0;34m)\u001b[0m\u001b[0;34m:\u001b[0m\u001b[0;34m\u001b[0m\u001b[0m\n\u001b[1;32m    311\u001b[0m             \u001b[0;32mcontinue\u001b[0m\u001b[0;34m\u001b[0m\u001b[0m\n",
        "\u001b[0;32m/Users/ibersue/anaconda/python.app/Contents/lib/python2.7/sre_parse.pyc\u001b[0m in \u001b[0;36m_parse\u001b[0;34m(source, state)\u001b[0m\n\u001b[1;32m    400\u001b[0m             \u001b[0;32mbreak\u001b[0m \u001b[0;31m# end of pattern\u001b[0m\u001b[0;34m\u001b[0m\u001b[0m\n\u001b[1;32m    401\u001b[0m \u001b[0;34m\u001b[0m\u001b[0m\n\u001b[0;32m--> 402\u001b[0;31m         \u001b[0;32mif\u001b[0m \u001b[0mstate\u001b[0m\u001b[0;34m.\u001b[0m\u001b[0mflags\u001b[0m \u001b[0;34m&\u001b[0m \u001b[0mSRE_FLAG_VERBOSE\u001b[0m\u001b[0;34m:\u001b[0m\u001b[0;34m\u001b[0m\u001b[0m\n\u001b[0m\u001b[1;32m    403\u001b[0m             \u001b[0;31m# skip whitespace and comments\u001b[0m\u001b[0;34m\u001b[0m\u001b[0;34m\u001b[0m\u001b[0m\n\u001b[1;32m    404\u001b[0m             \u001b[0;32mif\u001b[0m \u001b[0mthis\u001b[0m \u001b[0;32min\u001b[0m \u001b[0mWHITESPACE\u001b[0m\u001b[0;34m:\u001b[0m\u001b[0;34m\u001b[0m\u001b[0m\n",
        "\u001b[0;31mTypeError\u001b[0m: unsupported operand type(s) for &: 'str' and 'int'"
       ]
      }
     ],
     "prompt_number": 169
    },
    {
     "cell_type": "markdown",
     "metadata": {},
     "source": [
      "##Problem 5\n",
      "\n",
      "A) Write a function `splitWithHTML` that tokenizes a text string on HTML tags, keeping the HTML tags in the tokens"
     ]
    },
    {
     "cell_type": "code",
     "collapsed": false,
     "input": [
      "def splitWithHTML(text):\n",
      "    vs =re.split(r'SEARCH', text)\n",
      "    print vs\n",
      "\n",
      "text = \"\"\"\n",
      "<html>\n",
      "<head><title>This is the title</title>\n",
      "<body onload=\"javascript blah blah>>\">This is what <b>is happening <i> to us</i></b></body>\n",
      "<html>\"\"\"\n",
      "\n",
      "splitWithHTML(text)"
     ],
     "language": "python",
     "metadata": {},
     "outputs": [
      {
       "output_type": "stream",
       "stream": "stdout",
       "text": [
        "['\\n', '<html>', '\\n', '<head>', '', '<title>', 'This is the title', '</title>', '\\n', '<body onload=\"javascript blah blah>>\">', 'This is what ', '<b>', 'is happening ', '<i>', ' to us', '</i>', '', '</b>', '', '</body>', '\\n', '<html>', '']\n"
       ]
      }
     ],
     "prompt_number": 8
    },
    {
     "cell_type": "markdown",
     "metadata": {},
     "source": [
      "##Problem 6\n",
      "\n",
      "The file `roster.txt` contains the 144 class roster, essentially as a receive it from AIS. Please rewrite each line to show the following elements in the following order: \n",
      "\n",
      "    email address[tab]last name[tab]major1\n",
      "   \n",
      "Note that for the tabs, you should know that the way to find/print them is `\\t`."
     ]
    },
    {
     "cell_type": "code",
     "collapsed": false,
     "input": [
      "#there are three basic patterns to search for; do them each\n",
      "splitRE = re.compile(r'(?:PATTERN1|PATTERN2|PATTERN3)')\n",
      "#open file as f\n",
      "for li in f:\n",
      "    # use split\n",
      "    \n",
      "    # and print\n",
      "    "
     ],
     "language": "python",
     "metadata": {},
     "outputs": [
      {
       "output_type": "stream",
       "stream": "stdout",
       "text": [
        "crjimene@ucsc.edu\tRenee\tLINGBA\n",
        "mikovach@ucsc.edu\tIlona\tLANGBA\n",
        "scweiser@ucsc.edu\tClaire\tPHYSBS\n",
        "jahuizar@ucsc.edu\tAnita\tLINGBA\n",
        "matitone@ucsc.edu\tAnthony\tLINGBA\n",
        "srubenki@ucsc.edu\tRae\tLANGBA\n",
        "mcmata@ucsc.edu\tChristopher\tLINGBA\n",
        "vvanegas@ucsc.edu\tValentina\tLINGBA\n",
        "wmbuchan@ucsc.edu\tMichael\tLINGBA\n",
        "lrchan@ucsc.edu\tRebecca\tLINGBA\n",
        "sfsander@ucsc.edu\tFrancine\tLINGBA\n",
        "shmbianc@ucsc.edu\tMichael\tLINGBA\n",
        "sewinn@ucsc.edu\tEugene\tLINGBA\n",
        "skano@ucsc.edu\t\tLINGBA\n",
        "eswong@ucsc.edu\tStanley Gordon\tLINGBA\n",
        "tcorcora@ucsc.edu\tChase\tLINGBA\n",
        "ksheets@ucsc.edu\tAnne\tLINGBA\n",
        "arzavala@ucsc.edu\tRandall\tLINGBA\n",
        "sclothie@ucsc.edu\tLabou\tLINGBA\n",
        "neggert@ucsc.edu\tWilliam\tPHILBA\n",
        "rastle@ucsc.edu\tNicolle\tLINGBA\n",
        "chanmill@ucsc.edu\tAnn\tLINGBA\n",
        "sneace@ucsc.edu\tRachelle\tLINGBA\n",
        "stgarcia@ucsc.edu\tTrevino\tLINGBA\n"
       ]
      }
     ],
     "prompt_number": 9
    },
    {
     "cell_type": "markdown",
     "metadata": {},
     "source": [
      "## Problem 7\n",
      "\n",
      "I have extracted the first few paragraphs of [the following](http://www.latimes.com/business/la-fi-obamacare-oversold-20131030,0,558878.story#axzz2jBmVwJij) and put it in `healthcare.txt`. Your job is to split this into sentences; I have `healthcare-sentences.txt` as an answer key.\n",
      "\n",
      "For this, you probably want to find the boundaries and then merge them backwards. Another approach is to use a bunch of lookbehind tests. Unfortunately, you can't combine them into one big lookbehind because Python requires lookahead/behind to be constant width patterns. In this case, you'll need two different lookarounds.  "
     ]
    },
    {
     "cell_type": "code",
     "collapsed": false,
     "input": [
      "#open file and read in contents as one string\n",
      "\n",
      "#use split\n",
      "sentenceBoundaries = re.compile(r'(PATTERN)')\n",
      "\n",
      "#and then put the sentence boundary back together with the preceding element"
     ],
     "language": "python",
     "metadata": {},
     "outputs": [
      {
       "output_type": "stream",
       "stream": "stdout",
       "text": [
        "As the pitchman for his landmark healthcare law, President Obama promised to make buying insurance as easy as buying a plane ticket online or a \"TV on Amazon.\"\n",
        " \n",
        "It would be simple, he said.\n",
        " \n",
        "If there were problems, the president predicted, they would be \"glitches.\"\n",
        " \n",
        "And he said, \"If you like the plan you have, you can keep it.\"\n",
        " \n",
        "Such claims have come back to haunt the president and his allies less than a month into the launch of the online insurance marketplaces at the heart of his healthcare legislation.\n",
        " \n",
        "With the federal website hobbled by bad design and thousands of policyholders receiving cancellation notices, Obama's promises are not being met \u2014 prompting charges of deception from some Republicans and concessions from some allies that elements of the law were oversold.\n",
        " \n",
        "The fallout is only the latest chapter in this White House's three-year struggle to sell the public on the Affordable Care Act, which could come to define the president's legacy.\n",
        " \n",
        "Since signing it into law, the president has variously defended it, promoted it, simplified it and hyped it.\n",
        " \n",
        "But polling shows he has never fully sold, nor educated, the public on the vast new government healthcare program.\n",
        " \n",
        "Publicly, the White House continued Tuesday to defend the president's pre-launch salesmanship.\n",
        " \n",
        "\"The purpose here wasn't to do anything beyond encourage people to make themselves aware of the options available to them,\" White House Press Secretary Jay Carney said.\n",
        " \n",
        "Behind closed doors, some officials who worked on the rollout say they wish they'd left themselves a little wiggle room.\n",
        " \n",
        "They could have done more to play up ways to sign up other than through the website, such as the call centers, said one official, requesting anonymity to discuss the planning process.\n",
        " \n",
        "After taking heat from allies for not finding a crisp way to explain the complex law, the White House tried to boil it down to its simplest elements, the official said, and some nuance was inevitably lost.\n",
        " \n",
        "The first administration official to testify before Congress on the matter apologized Tuesday, saying, \"the website has not worked as well as it should.\"\n",
        " \n",
        "\"This initial experience has not lived up to our expectations or the expectations of the American people, and it is not acceptable,\" Marilyn Tavenner, the head of the federal Centers for Medicare and Medicaid Services, told the House Ways and Means Committee.\n",
        " \n",
        "Tavenner's agency oversaw the development of the site, intended to link consumers with affordable private health insurance plans that meet standards outlined in the 2010 law.\n",
        " \n",
        "Tavenner vowed that the site would be running smoothly by the end of November, in time for consumers to enroll before the new year.\n"
       ]
      }
     ],
     "prompt_number": 10
    },
    {
     "cell_type": "markdown",
     "metadata": {},
     "source": [
      "## Problem 8\n",
      "\n",
      "find how many times a regular verb is used in a text, organized by tense (To be completed)"
     ]
    },
    {
     "cell_type": "code",
     "collapsed": false,
     "input": [],
     "language": "python",
     "metadata": {},
     "outputs": []
    }
   ],
   "metadata": {}
  }
 ]
}