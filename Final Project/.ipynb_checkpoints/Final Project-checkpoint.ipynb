{
 "metadata": {
  "name": ""
 },
 "nbformat": 3,
 "nbformat_minor": 0,
 "worksheets": [
  {
   "cells": [
    {
     "cell_type": "markdown",
     "metadata": {},
     "source": [
      "#Poetic Analysis of Texts\n"
     ]
    },
    {
     "cell_type": "markdown",
     "metadata": {},
     "source": [
      "####This program analyses the overall assonance, alliteration and rhyme(word and line) of three different texts (Dickinson Poems, Moby Dick and a botany textbook). An excerpt of each text approximately 6000 words in length was selected for analysis. The intention is to see the frequency of these things is and whether it is indicative of how overall poetic the text is. \n"
     ]
    },
    {
     "cell_type": "markdown",
     "metadata": {},
     "source": [
      "Contributors: Rebekah Astle & Sarah Neace <br>\n",
      "Emails: rastle@ucsc.edu, sneace@ucsc.edu <br>\n",
      "Credits: Dave Astle, Pranav Anand, Oliver Northrup"
     ]
    },
    {
     "cell_type": "code",
     "collapsed": false,
     "input": [
      "import re\n",
      "import json\n",
      "f = open(\"cmdict7a.json\", \"r\")\n",
      "dictionary = json.load(f)\n",
      "f.close()"
     ],
     "language": "python",
     "metadata": {},
     "outputs": [],
     "prompt_number": 166
    },
    {
     "cell_type": "code",
     "collapsed": false,
     "input": [
      "import os\n",
      "os.getcwd()\n",
      "\n",
      "path1 = \".//mobydick.txt\" #assign 'path1' to a text file that is an exerpt from \"Moby Dick\"\n",
      "path2 = \".//botany.txt\" #assign 'path2' to a text file that is an exerpt from a botany textbook\n",
      "path3 = \".//dickinson.txt\" #assign 'path3' to a text file that is a sample of Emily Dickinson poetry.\n",
      "\n",
      "\n",
      "def tokenizer(path):\n",
      "    t = open(path, \"r\")\n",
      "    lineslist = [] #begin a list for the lines in the file\n",
      "    for line in t:\n",
      "        line = re.findall(r\"[A-Za-z']+\", line.lower())#strip the punctuation with regular expression for each line\n",
      "        lineslist.append(line)#append each line into a list of lines\n",
      "        lineslist = [x for x in lineslist if x != []] #eliminates empty lists within the list created by empty lines in the text\n",
      "    \n",
      "    return lineslist\n",
      "\n",
      "def pronounce(w):\n",
      "    \"\"\"a function to find the pronunciation of any specific word\"\"\"\n",
      "    if w in dictionary: #each word in each line, if it is listed in the cmdict7a dictionary\n",
      "        w = dictionary[w][0] #then it is the phonetic version of that word from the first entry for that word in the dictionary\n",
      "    else:\n",
      "        w = 'None'\n",
      "    return w\n",
      "\n",
      "        \n",
      "\n",
      "if __name__ == \"__main__\":\n",
      "    mobydickList = tokenizer(path1)\n",
      "    \n",
      "    botanyList = tokenizer(path2)\n",
      "    \n",
      "    dickinsonList = tokenizer(path3)"
     ],
     "language": "python",
     "metadata": {},
     "outputs": [],
     "prompt_number": 167
    },
    {
     "cell_type": "code",
     "collapsed": false,
     "input": [
      "#list of all arpabet vowels to reference for assonance and alliteration\n",
      "v = [u'AO', u'AA', u'IY', u'UW', u'EH', u'IH', u'UH', u'AH', u'AX', u'AE', u'EY', u'AY', u'OW', u'AW', u'OY']\n",
      "\n",
      "#this function finds how frequent alliteration is in each text by comparing each word to the word after that\n",
      "def alliterationFreq(booklist):\n",
      "    alliFreq = 0 #create variable for alliteration frequency \n",
      "    for line in booklist:\n",
      "        for n, word in enumerate(line): #uses enumerate to index each word in the line in selected booklist. \n",
      "            if n < len(line)-1 and (pronounce(word)[0] == pronounce(line[n+1])[0]) and \\\n",
      "            (pronounce(word)[0] not in v and pronounce(line[n+1])[0] not in v) and \\\n",
      "            (pronounce(word) != \"None\" and pronounce(line[n+1]) != \"None\"): \n",
      "            #If a word is in the line and it's first character is the same as the first character of the word after it\n",
      "            #and it is not a vowel and it is not \"none\"(there is probably a cleaner way to set all these restrictions but\n",
      "            # I wasn't sure how.) \n",
      "                alliFreq += 1  #add 1 to alliteration frequency\n",
      "            \n",
      "    return alliFreq # return total number of alliterations\n",
      "\n",
      "def assonanceFreq(booklist):\n",
      "    assonFreq = 0 #create variable for assonance frequency \n",
      "    for line in booklist:\n",
      "        for n, word in enumerate(line): #uses enumerate to index each word in the line in selected booklist.\n",
      "            if n < len(line)-1 and (pronounce(word)[0] == pronounce(line[n+1])[0]) and \\\n",
      "            (pronounce(word)[0] in v and pronounce(line[n+1])[0] in v) and \\\n",
      "            (pronounce(word) != \"None\" and pronounce(line[n+1]) != \"None\"):\n",
      "            #If a word is in the line and it's first character is the same as the first character of the word after it\n",
      "            #and both are vowels and neither is \"none\"\n",
      "                assonFreq += 1 #add 1 to assonance frequency\n",
      "    return assonFreq # return total number of assonant pairs\n",
      "\n",
      "def wordrhymeFreq(booklist):\n",
      "    wrFreq = 0 #create variable for word rhyme frequency \n",
      "    for line in booklist:\n",
      "        for n, word in enumerate(line):#uses enumerate to index each word in the line in selected booklist. \n",
      "            if n < len(line)-1 and (pronounce(word)[-2:] == pronounce(line[n+1])[-2:]) and \\\n",
      "            (pronounce(word) != \"None\" and pronounce(line[n+1]) != \"None\"): \n",
      "             #If a word is in the line and it's first character is the same as the first character of the word after it\n",
      "            #and neither is \"none\"\n",
      "                wrFreq += 1 #add 1 to word rhyme frequency\n",
      "    return wrFreq # return total number of rhyming pairs\n",
      "        \n",
      "def linerhymeFreq(booklist):\n",
      "    lrFreq = 0 #create variable for line rhyme frequency \n",
      "    for n, line in enumerate(booklist): #uses enumerate to index each line in selected booklist. \n",
      "        if n < len(booklist)-1 and pronounce(line[-1])[-2:] == pronounce(booklist[n+1][-1])[-2:] and \\\n",
      "        (pronounce(line[-1]) != \"None\" and pronounce(booklist[n+1][-1]) != \"None\"):\n",
      "            lrFreq += 1\n",
      "        if n < len(booklist)-2 and pronounce(line[-1])[-2:] == pronounce(booklist[n+2][-1])[-2:] and \\\n",
      "        (pronounce(line[-1]) != \"None\" and pronounce(booklist[n+2][-1]) != \"None\"):\n",
      "            lrFreq += 1\n",
      "    return lrFreq\n",
      "\n",
      "if __name__ == \"__main__\":\n",
      "    print \"Dickinson Poems--\"\n",
      "    print \"This text has \" + str(alliterationFreq(dickinsonList)) + \" alliterations\"\n",
      "    print \"This text has \" + str(assonanceFreq(dickinsonList)) + \" assonant pairs\"\n",
      "    print \"This text has \" + str(wordrhymeFreq(dickinsonList)) + \" rhyming words\" \n",
      "    print \"This text has \" + str(linerhymeFreq(dickinsonList)) + \" rhyming lines\"\n",
      "    print \"  \"\n",
      "    print \"Moby Dick--\"\n",
      "    print \"This text has \" + str(alliterationFreq(mobydickList)) + \" alliterations\"\n",
      "    print \"This text has \" + str(assonanceFreq(mobydickList)) + \" assonant pairs\"\n",
      "    print \"This text has \" + str(wordrhymeFreq(mobydickList)) + \" rhyming words\" \n",
      "    print \"This text has \" + str(linerhymeFreq(mobydickList)) + \" rhyming lines\"\n",
      "    print \"  \"\n",
      "    print \"Botany Textboox--\"\n",
      "    print \"This text has \" + str(alliterationFreq(botanyList)) + \" alliterations\"\n",
      "    print \"This text has \" + str(assonanceFreq(botanyList)) + \" assonant pairs\"\n",
      "    print \"This text has \" + str(wordrhymeFreq(botanyList)) + \" rhyming words\" \n",
      "    print \"This text has \" + str(linerhymeFreq(botanyList)) + \" rhyming lines\"\n",
      "    "
     ],
     "language": "python",
     "metadata": {},
     "outputs": [
      {
       "output_type": "stream",
       "stream": "stdout",
       "text": [
        "Dickinson Poems--\n",
        "This text has 134 alliterations\n",
        "This text has 54 assonant pairs\n",
        "This text has 21 rhyming words\n",
        "This text has 157 rhyming lines"
       ]
      },
      {
       "output_type": "stream",
       "stream": "stdout",
       "text": [
        "\n",
        "  \n",
        "Moby Dick--\n",
        "This text has 203 alliterations\n",
        "This text has 50 assonant pairs\n",
        "This text has 56 rhyming words\n",
        "This text has 0 rhyming lines\n",
        "  \n",
        "Botany Textboox--\n",
        "This text has 153 alliterations"
       ]
      },
      {
       "output_type": "stream",
       "stream": "stdout",
       "text": [
        "\n",
        "This text has 121 assonant pairs\n",
        "This text has 31 rhyming words\n",
        "This text has 0 rhyming lines\n"
       ]
      }
     ],
     "prompt_number": 175
    },
    {
     "cell_type": "markdown",
     "metadata": {},
     "source": [
      "####Although the prose (Moby Dick) showed more alliteration and word rhyming than the other texts, the poetry (Dickinson Poems) had much higher rate of rhyming lines. Part of the high instance of assonance in the botany textbook is due to repetition of the phrase \"it is\" which is not commonly used in the realm of creative writing. "
     ]
    }
   ],
   "metadata": {}
  }
 ]
}