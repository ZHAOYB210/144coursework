{
 "metadata": {
  "name": ""
 },
 "nbformat": 3,
 "nbformat_minor": 0,
 "worksheets": [
  {
   "cells": [
    {
     "cell_type": "markdown",
     "metadata": {},
     "source": [
      "Contributors: Rebekah Astle & Sarah Neace <br>\n",
      "Emails: rastle@ucsc.edu, sneace@ucsc.edu <br>\n",
      "Credits:<br>"
     ]
    },
    {
     "cell_type": "markdown",
     "metadata": {},
     "source": [
      "This program analyses the overall assonance, alliteration and rhyme of "
     ]
    },
    {
     "cell_type": "markdown",
     "metadata": {},
     "source": [
      "What we need our program to do <br>\n",
      "1. open a text file and read it <br>\n",
      "2. split file into sentences/lines <br>\n",
      "3. check sentence/line for internal rhyme and if they rhyme with next line, line after that <br>\n",
      "4. return frequency of rhyme <br>\n",
      "5. check words for alliteration and assonance (this should be simpler than  rhyme because you only need to compare each word to the one next to it)<br>\n",
      "6.return frequency for each"
     ]
    },
    {
     "cell_type": "code",
     "collapsed": false,
     "input": [
      "import re\n",
      "import json\n",
      "f = open(\"cmdict7a.json\", \"r\")\n",
      "dictionary = json.load(f)\n",
      "f.close()"
     ],
     "language": "python",
     "metadata": {},
     "outputs": [],
     "prompt_number": 17
    },
    {
     "cell_type": "code",
     "collapsed": false,
     "input": [
      "import os\n",
      "os.getcwd()\n",
      "\n",
      "path1 = \".//mobydick.txt\" #assign 'path1' to a text file that is an exerpt from \"Moby Dick\"\n",
      "path2 = \".//botany.txt\" #assign 'path2' to a text file that is an exerpt from a botany textbook\n",
      "path3 = \".//dickinson.txt\" #assign 'path3' to a text file that is a sample of Emily Dickinson poetry.\n",
      "\n",
      "\n",
      "def tokenizer(path):\n",
      "    t = open(path, \"r\")\n",
      "    lineslist = [] #begin a list for the lines in the file\n",
      "    for line in t:\n",
      "        line = re.findall(r\"[A-Za-z']+\", line.lower())#strip the punctuation with regular expression for each line\n",
      "        lineslist.append(line)#append each line into a list of lines\n",
      "        lineslist = [x for x in lineslist if x != []] #eliminates empty lists within the list created by empty lines in the text\n",
      "    \n",
      "    return lineslist\n",
      "\n",
      "\n",
      "if __name__ == \"__main__\":\n",
      "    mobydickList = tokenizer(path1)\n",
      "    #print mobydickList\n",
      "    \n",
      "    botanyList = tokenizer(path2)\n",
      "    #print botanyList\n",
      "    \n",
      "    dickinsonList = tokenizer(path3)\n",
      "    #print dickinsonList\n",
      "\n",
      "def pronounce(w):\n",
      "    \"\"\"a function to find the pronunciation of any specific word\"\"\"\n",
      "    if w in dictionary: #each word in each line, if it is listed in the cmdict7a dictionary\n",
      "        w = dictionary[w][0] #then it is the phonetic version of that word from the first entry for that word in the dictionary\n",
      "    else:\n",
      "        w = 'None'\n",
      "    return w\n",
      "\n",
      "#def pronunciation(booklist):\n",
      " #   for line in booklist:\n",
      "  #      for word in line:\n",
      "   #         word = pronounce(booklist[line][word])\n",
      "        \n",
      "if __name__ == \"__main__\":\n",
      "    #print pronunciation(dickinsonList)\n",
      "    print pronounce(dickinsonList[1][2])"
     ],
     "language": "python",
     "metadata": {},
     "outputs": [
      {
       "output_type": "stream",
       "stream": "stdout",
       "text": [
        "[u'S', u'AH', u'M', u'TH', u'IH', u'NG']\n"
       ]
      }
     ],
     "prompt_number": 40
    },
    {
     "cell_type": "code",
     "collapsed": false,
     "input": [
      "def alliterationFreq(booklist):\n",
      "    alliFreq = 0\n",
      "    for line in booklist:\n",
      "        for word in pronounce(booklist[line]):\n",
      "            for char in pronounce(booklist[line][word]):\n",
      "                if alliterate: #alliterate is not meant to be working yet, just a frame work\n",
      "                    alliFreq += 1 \n",
      "                else:\n",
      "                    continue \n",
      "\n",
      "##### ignore all of the stuff below here.......\n",
      "def assonanceFreq(w1, w2):\n",
      "    \"\"\"says if w1 and w2 share the same first vowel\"\"\"\n",
      "    #!!! \"dune\" and \"tough\" assonate according to this function, because the 'u' in w2[2] will overwrite the 'o'\n",
      "    #!!! Similarly, \"door\" and \"ore\" will fail because the final 'e' of w2 is within the search scope.\n",
      "    for char in w1[0:3]:\n",
      "        if char in v:  #if the first character in w1 one is a vowel\n",
      "            vow1 = char #then call it vow1\n",
      "    for char in w2[0:3]:\n",
      "        if char in v:\n",
      "            vow2 = char #same for w2, but call it vow2\n",
      "    if vow1==vow2: #if w1 and w2  share the same first vowel\n",
      "        return True\n",
      "    else:\n",
      "        return False\n",
      "    \n",
      "def wordrhyme(w1, w2):\n",
      "    pronounce_list1 = dictionary[w1] #creates list from the dictionary entry for w1\n",
      "\n",
      "    pronounce_list2 = dictionary[w2] #creates list from the dictionary entry for w2\n",
      "\n",
      "    for p in pronounce_list1: #tells to look for each p in the dictionary for w1\n",
      "        #!!! Weird name for this variable, given what's getting assigned.\n",
      "        word1 = p[-3:]       # finds last 3 characters of p and assigns variable to them\n",
      "        for j in pronounce_list2: #does the same as above for second argument of rhyme\n",
      "            word2 = j[-3:]\n",
      "        if word1 == word2: #compares the last three arpabet characters of word1 with those of word2 and checks for equality\n",
      "            return True #rhyme\n",
      "        else:\n",
      "            return False #not rhyme\n",
      "        \n",
      "def linerhyme():\n",
      "    if \n",
      "    "
     ],
     "language": "python",
     "metadata": {},
     "outputs": [
      {
       "ename": "SyntaxError",
       "evalue": "invalid syntax (<ipython-input-41-f594b7670712>, line 5)",
       "output_type": "pyerr",
       "traceback": [
        "\u001b[0;36m  File \u001b[0;32m\"<ipython-input-41-f594b7670712>\"\u001b[0;36m, line \u001b[0;32m5\u001b[0m\n\u001b[0;31m    for char pronounce(booklist[line][word]):\u001b[0m\n\u001b[0m                     ^\u001b[0m\n\u001b[0;31mSyntaxError\u001b[0m\u001b[0;31m:\u001b[0m invalid syntax\n"
       ]
      }
     ],
     "prompt_number": 41
    },
    {
     "cell_type": "code",
     "collapsed": false,
     "input": [],
     "language": "python",
     "metadata": {},
     "outputs": []
    }
   ],
   "metadata": {}
  }
 ]
}