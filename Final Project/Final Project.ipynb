{
 "metadata": {
  "name": ""
 },
 "nbformat": 3,
 "nbformat_minor": 0,
 "worksheets": [
  {
   "cells": [
    {
     "cell_type": "markdown",
     "metadata": {},
     "source": [
      "Contributors: Rebekah Astle & Sarah Neace <br>\n",
      "Emails: rastle@ucsc.edu, sneace@ucsc.edu <br>\n",
      "Credits:<br>"
     ]
    },
    {
     "cell_type": "markdown",
     "metadata": {},
     "source": [
      "This program analyses the overall assonance, alliteration and rhyme of "
     ]
    },
    {
     "cell_type": "markdown",
     "metadata": {},
     "source": [
      "What we need our program to do <br>\n",
      "1. open a text file and read it <br>\n",
      "2. split file into sentences/lines <br>\n",
      "3. check sentence/line for internal rhyme and if they rhyme with next line, line after that <br>\n",
      "4. return frequency of rhyme <br>\n",
      "5. check words for alliteration and assonance (this should be simpler than  rhyme because you only need to compare each word to the one next to it)<br>\n",
      "6.return frequency for each"
     ]
    },
    {
     "cell_type": "code",
     "collapsed": false,
     "input": [
      "### Started working on this just copying and pasting code from other homework\n",
      "### that I think we need for this. Will start modifying the programs.\n",
      "import re\n",
      "import json\n",
      "f = open(\"cmdict7a.json\", \"r\")\n",
      "dictionary = json.load(f)\n",
      "f.close()"
     ],
     "language": "python",
     "metadata": {},
     "outputs": [],
     "prompt_number": 6
    },
    {
     "cell_type": "code",
     "collapsed": false,
     "input": [
      "import os\n",
      "os.chdir(\"/Users/ibersue/Documents/Computational Methods /144coursework/Final Project\")\n",
      "os.getcwd()\n",
      "\n",
      "#!!! Good.\n",
      "path = \"/mobydick\" #assign 'path' to a text file called 'grimms'\n",
      "\n",
      "#def tokenizer(path):\n",
      " #   t = open(path, \"r\")\n",
      "  #  wordslist = [] #begin a list for the words int he file\n",
      "   # for line in t:\n",
      "    #    line = re.findall(r\"[A-Za-z']+\", line.lower()) #strip the punctuation with regular expression. #!!! and make a list of words\n",
      "     #   for w in line: \n",
      "            #!!! This may be more complicated than needed. If w is in dictionary, you just want to add dictionary[w][0] to wordslist\n",
      "      #      if w in dictionary: #each word in each line, if it is listed in the cmdict7a dictionary\n",
      "       #         w = dictionary[w] #then it is the phonetic version of that word from the dictionary\n",
      "        #    else:\n",
      "                w = \"\"\n",
      "            #!!! Sometimes w is a list of lists, and sometimes it's a string. That's something to avoid.\n",
      "         #   for word in enumerate(w): \n",
      "          #      word = w[0] #this only takes the first entry of each word from the dictionary\n",
      "       # wordslist.append(word) #add the phonetic representations together in the list\n",
      "  #  return wordslist\n"
     ],
     "language": "python",
     "metadata": {},
     "outputs": [],
     "prompt_number": 5
    },
    {
     "cell_type": "code",
     "collapsed": false,
     "input": [
      "def alliteration(w1, w2):\n",
      "    \"\"\"says if w1 and w2 share the same initial consonant\"\"\"\n",
      "    #!!! Why use a for loop over a single character?\n",
      "    for char in w1[0]:\n",
      "        if char not in v: #if the first character in w1 (word 1) is a consonant\n",
      "            cons1 = char  #call it cons1\n",
      "    for char in w2[0]:\n",
      "        if char not in v:\n",
      "            cons2 = char #same for w2 (word 2), but cal it cons2\n",
      "    if cons1==cons2: #if w1 and w2 share the same initial consonant\n",
      "        return True\n",
      "    else:\n",
      "        return False\n",
      "\n",
      "def assonance(w1, w2):\n",
      "    \"\"\"says if w1 and w2 share the same first vowel\"\"\"\n",
      "    #!!! \"dune\" and \"tough\" assonate according to this function, because the 'u' in w2[2] will overwrite the 'o'\n",
      "    #!!! Similarly, \"door\" and \"ore\" will fail because the final 'e' of w2 is within the search scope.\n",
      "    for char in w1[0:3]:\n",
      "        if char in v:  #if the first character in w1 one is a vowel\n",
      "            vow1 = char #then call it vow1\n",
      "    for char in w2[0:3]:\n",
      "        if char in v:\n",
      "            vow2 = char #same for w2, but call it vow2\n",
      "    if vow1==vow2: #if w1 and w2  share the same first vowel\n",
      "        return True\n",
      "    else:\n",
      "        return False\n",
      "    \n",
      "def rhyme(w1, w2):\n",
      "    pronounce_list1 = dictionary[w1] #creates list from the dictionary entry for w1\n",
      "\n",
      "    pronounce_list2 = dictionary[w2] #creates list from the dictionary entry for w2\n",
      "\n",
      "    for p in pronounce_list1: #tells to look for each p in the dictionary for w1\n",
      "        #!!! Weird name for this variable, given what's getting assigned.\n",
      "        word1 = p[-3:]       # finds last 3 characters of p and assigns variable to them\n",
      "        for j in pronounce_list2: #does the same as above for second argument of rhyme\n",
      "            word2 = j[-3:]\n",
      "        if word1 == word2: #compares the last three arpabet characters of word1 with those of word2 and checks for equality\n",
      "            return True #rhyme\n",
      "        else:\n",
      "            return False #not rhyme\n",
      "    "
     ],
     "language": "python",
     "metadata": {},
     "outputs": []
    }
   ],
   "metadata": {}
  }
 ]
}