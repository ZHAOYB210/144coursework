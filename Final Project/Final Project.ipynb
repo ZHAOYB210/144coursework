{
 "metadata": {
  "name": ""
 },
 "nbformat": 3,
 "nbformat_minor": 0,
 "worksheets": [
  {
   "cells": [
    {
     "cell_type": "markdown",
     "metadata": {},
     "source": [
      "Contributors: Rebekah Astle & Sarah Neace <br>\n",
      "<br>\n",
      "Emails: rastle@ucsc.edu, sneace@ucsc.edu <br>\n",
      "<br>\n",
      "Credits: Dave Astle, Pranav Anand"
     ]
    },
    {
     "cell_type": "markdown",
     "metadata": {},
     "source": [
      "This program analyses the overall assonance, alliteration and rhyme of three different texts (Dickinson Poems, Moby Dick and a botany textbook). The intention is to see if the frequency of this is indicative of overall how poetic the text is. \n"
     ]
    },
    {
     "cell_type": "code",
     "collapsed": false,
     "input": [
      "import re\n",
      "import json\n",
      "f = open(\"cmdict7a.json\", \"r\")\n",
      "dictionary = json.load(f)\n",
      "f.close()"
     ],
     "language": "python",
     "metadata": {},
     "outputs": [],
     "prompt_number": 163
    },
    {
     "cell_type": "code",
     "collapsed": false,
     "input": [
      "import os\n",
      "os.getcwd()\n",
      "\n",
      "path1 = \".//mobydick.txt\" #assign 'path1' to a text file that is an exerpt from \"Moby Dick\"\n",
      "path2 = \".//botany.txt\" #assign 'path2' to a text file that is an exerpt from a botany textbook\n",
      "path3 = \".//dickinson.txt\" #assign 'path3' to a text file that is a sample of Emily Dickinson poetry.\n",
      "\n",
      "\n",
      "def tokenizer(path):\n",
      "    t = open(path, \"r\")\n",
      "    lineslist = [] #begin a list for the lines in the file\n",
      "    for line in t:\n",
      "        line = re.findall(r\"[A-Za-z']+\", line.lower())#strip the punctuation with regular expression for each line\n",
      "        lineslist.append(line)#append each line into a list of lines\n",
      "        lineslist = [x for x in lineslist if x != []] #eliminates empty lists within the list created by empty lines in the text\n",
      "    \n",
      "    return lineslist\n",
      "\n",
      "\n",
      "if __name__ == \"__main__\":\n",
      "    mobydickList = tokenizer(path1)\n",
      "    #print mobydickList\n",
      "    \n",
      "    botanyList = tokenizer(path2)\n",
      "    #print botanyList\n",
      "    \n",
      "    dickinsonList = tokenizer(path3)\n",
      "    #print dickinsonList\n",
      "\n",
      "def pronounce(w):\n",
      "    \"\"\"a function to find the pronunciation of any specific word\"\"\"\n",
      "    if w in dictionary: #each word in each line, if it is listed in the cmdict7a dictionary\n",
      "        w = dictionary[w][0] #then it is the phonetic version of that word from the first entry for that word in the dictionary\n",
      "    else:\n",
      "        w = 'None'\n",
      "    return w\n",
      "\n",
      "        \n"
     ],
     "language": "python",
     "metadata": {},
     "outputs": [],
     "prompt_number": 164
    },
    {
     "cell_type": "code",
     "collapsed": false,
     "input": [
      "v = [u'AO', u'AA', u'IY', u'UW', u'EH', u'IH', u'UH', u'AH', u'AX', u'AE', u'EY', u'AY', u'OW', u'AW', u'OY']\n",
      "\n",
      "def alliterationFreq(booklist):\n",
      "    alliFreq = 0\n",
      "    for line in booklist:\n",
      "        for n, word in enumerate(line):\n",
      "            if n < len(line)-1 and (pronounce(word)[0] == pronounce(line[n+1])[0]) and \\\n",
      "            (pronounce(word)[0] not in v and pronounce(line[n+1])[0] not in v) and \\\n",
      "            (pronounce(word) != \"None\" and pronounce(line[n+1]) != \"None\"):\n",
      "                alliFreq += 1 \n",
      "    return alliFreq\n",
      "\n",
      "def assonanceFreq(booklist):\n",
      "    assonFreq = 0\n",
      "    for line in booklist:\n",
      "        for n, word in enumerate(line):\n",
      "            if n < len(line)-1 and (pronounce(word)[0] == pronounce(line[n+1])[0]) and \\\n",
      "            (pronounce(word)[0] in v and pronounce(line[n+1])[0] in v) and \\\n",
      "            (pronounce(word) != \"None\" and pronounce(line[n+1]) != \"None\"):\n",
      "                assonFreq += 1 \n",
      "    return assonFreq\n",
      "\n",
      "def wordrhymeFreq(booklist):\n",
      "    wrFreq = 0\n",
      "    for line in booklist:\n",
      "        for n, word in enumerate(line):\n",
      "            if n < len(line)-1 and (pronounce(word)[-2:] == pronounce(line[n+1])[-2:]) and \\\n",
      "            (pronounce(word) != \"None\" and pronounce(line[n+1]) != \"None\"): \n",
      "                wrFreq += 1 \n",
      "    return wrFreq\n",
      "        \n",
      "def linerhymeFreq(booklist):\n",
      "    lrFreq = 0\n",
      "    for n, line in enumerate(booklist):\n",
      "        if n < len(booklist)-1 and pronounce(line[-1])[-2:] == pronounce(booklist[n+1][-1])[-2:] and \\\n",
      "        (pronounce(line[-1]) != \"None\" and pronounce(booklist[n+1][-1]) != \"None\"):\n",
      "            lrFreq += 1\n",
      "        if n < len(booklist)-2 and pronounce(line[-1])[-2:] == pronounce(booklist[n+2][-1])[-2:]:\n",
      "            lrFreq += 1\n",
      "    return lrFreq\n",
      "\n",
      "if __name__ == \"__main__\":\n",
      "    print \"Dickinson Poems--\"\n",
      "    print \"This text has \" + str(alliterationFreq(dickinsonList)) + \" alliterations\"\n",
      "    print \"This text has \" + str(assonanceFreq(dickinsonList)) + \" assonant pairs\"\n",
      "    print \"This text has \" + str(wordrhymeFreq(dickinsonList)) + \" rhyming words\" \n",
      "    print \"This text has \" + str(linerhymeFreq(dickinsonList)) + \" rhyming lines\"\n",
      "    print \"  \"\n",
      "    print \"Moby Dick--\"\n",
      "    print \"This text has \" + str(alliterationFreq(mobydickList)) + \" alliterations\"\n",
      "    print \"This text has \" + str(assonanceFreq(mobydickList)) + \" assonant pairs\"\n",
      "    print \"This text has \" + str(wordrhymeFreq(mobydickList)) + \" rhyming words\" \n",
      "    print \"This text has \" + str(linerhymeFreq(mobydickList)) + \" rhyming lines\"\n",
      "    print \"  \"\n",
      "    print \"Botany Textboox--\"\n",
      "    print \"This text has \" + str(alliterationFreq(botanyList)) + \" alliterations\"\n",
      "    print \"This text has \" + str(assonanceFreq(botanyList)) + \" assonant pairs\"\n",
      "    print \"This text has \" + str(wordrhymeFreq(botanyList)) + \" rhyming words\" \n",
      "    print \"This text has \" + str(linerhymeFreq(botanyList)) + \" rhyming lines\"\n",
      "    "
     ],
     "language": "python",
     "metadata": {},
     "outputs": [
      {
       "output_type": "stream",
       "stream": "stdout",
       "text": [
        "Dickinson Poems--\n",
        "This text has 134 alliterations\n",
        "This text has 54 assonant pairs\n",
        "This text has 21 rhyming words\n",
        "This text has 160 rhyming lines\n",
        "  \n",
        "Moby Dick--\n",
        "This text has 203 alliterations"
       ]
      },
      {
       "output_type": "stream",
       "stream": "stdout",
       "text": [
        "\n",
        "This text has 50 assonant pairs\n",
        "This text has 56 rhyming words\n",
        "This text has 0 rhyming lines\n",
        "  \n",
        "Botany Textboox--\n",
        "This text has 153 alliterations\n",
        "This text has 121 assonant pairs"
       ]
      },
      {
       "output_type": "stream",
       "stream": "stdout",
       "text": [
        "\n",
        "This text has 31 rhyming words\n",
        "This text has 0 rhyming lines\n"
       ]
      }
     ],
     "prompt_number": 165
    },
    {
     "cell_type": "code",
     "collapsed": false,
     "input": [],
     "language": "python",
     "metadata": {},
     "outputs": []
    }
   ],
   "metadata": {}
  }
 ]
}